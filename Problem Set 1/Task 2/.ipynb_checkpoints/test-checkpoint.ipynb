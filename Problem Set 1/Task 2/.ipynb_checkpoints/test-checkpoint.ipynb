{
 "cells": [
  {
   "cell_type": "code",
   "execution_count": 10,
   "metadata": {
    "pycharm": {
     "name": "#%%\n"
    }
   },
   "outputs": [],
   "source": [
    "import numpy as np"
   ]
  },
  {
   "cell_type": "code",
   "execution_count": 2,
   "metadata": {
    "pycharm": {
     "name": "#%%\n"
    }
   },
   "outputs": [],
   "source": [
    "def charRange(a,z):\n",
    "    return [chr(char) for char in range(ord(a),ord(z)+1)]\n",
    "constraints = [\n",
    "                \"a==b+c+e+f\", #c[0]=c1\n",
    "                \"d==e+f+21\",\n",
    "                \"d**2==e*e*a+694\",\n",
    "                \"e+f<a\",\n",
    "                \"h*j+e*16==(g+i)**2-48\", # c[4]=c5\n",
    "                \"a-c==(h-f)**2+4\",\n",
    "                \"4*j==g**2+7\",\n",
    "                \"2*m==k**2-25\", # c[7]=c8\n",
    "                \"(n-o)**2==(j-f)*o*2\",\n",
    "                \"n**2==m*j+100\",\n",
    "                \"(l+n)**2+1875==g*(b+f)*(k+m+n+30)\",\n",
    "                \"l*o==(a**2)*(k-g)\",\n",
    "                \"l**3==m**2-(o*f*a)\"\n",
    "            ]"
   ]
  },
  {
   "cell_type": "code",
   "execution_count": 25,
   "metadata": {
    "pycharm": {
     "name": "#%%\n"
    }
   },
   "outputs": [
    {
     "name": "stdout",
     "output_type": "stream",
     "text": [
      "solution = {'a': 35, 'b': 1, 'c': 28, 'd': 27, 'e': 1, 'f': 5}\n",
      "found in 1858 variable assignemnts\n",
      "order of assignments: ['e', 'a', 'd', 'f', 'b', 'c']\n"
     ]
    }
   ],
   "source": [
    "problemA = csp.problem(\n",
    "    variables=charRange('a','f'),\n",
    "    constraints=constraints[:4],\n",
    "    domains={var:np.arange(1,101) for var in charRange('a','f')}\n",
    ")\n",
    "problemA.backtrackV3()"
   ]
  },
  {
   "cell_type": "code",
   "execution_count": null,
   "metadata": {},
   "outputs": [],
   "source": [
    "import importlib\n",
    "import csp"
   ]
  },
  {
   "cell_type": "code",
   "execution_count": 17,
   "metadata": {
    "pycharm": {
     "name": "#%%\n"
    }
   },
   "outputs": [
    {
     "name": "stdout",
     "output_type": "stream",
     "text": [
      "solution = {'a': 35, 'b': 23, 'c': 6, 'd': 27, 'e': 1, 'f': 5, 'g': 5, 'h': 10, 'i': 7, 'j': 8}\n",
      "found in 53394 variable assignemnts\n",
      "order of assignments: ['e', 'a', 'd', 'f', 'b', 'c', 'e', 'a', 'd', 'f', 'c', 'h', 'b', 'g', 'j', 'i', 'e', 'a', 'd', 'f', 'c', 'h', 'b', 'g', 'j', 'i', 'f', 'a', 'e', 'j', 'g', 'm', 'o', 'e', 'a', 'd', 'f', 'c', 'h', 'b', 'g', 'j', 'i', 'e', 'a', 'd', 'f', 'c', 'h', 'b', 'g', 'j', 'i', 'e', 'a', 'd', 'f', 'c', 'h', 'b', 'g', 'j', 'i', 'e', 'a', 'd', 'f', 'c', 'h', 'b', 'g', 'j', 'i', 'e', 'a', 'd', 'f', 'c', 'h', 'b', 'g', 'j', 'i', 'e', 'a', 'd', 'f', 'c', 'h', 'b', 'g', 'j', 'i', 'e', 'a', 'd', 'f', 'c', 'h', 'b', 'g', 'j', 'i', 'e', 'a', 'd', 'f', 'c', 'h', 'b', 'g', 'j', 'i', 'e', 'a', 'd', 'f', 'c', 'h', 'b', 'g', 'j', 'i']\n"
     ]
    }
   ],
   "source": [
    "import csp\n",
    "problemB = csp.problem(\n",
    "    variables=charRange('a','j'),\n",
    "    constraints=constraints[:7],\n",
    "    domains={var:np.arange(1,101) for var in charRange('a','j')}\n",
    ")\n",
    "problemB.backtrackV3()"
   ]
  },
  {
   "cell_type": "code",
   "execution_count": null,
   "metadata": {
    "pycharm": {
     "name": "#%%\n"
    }
   },
   "outputs": [],
   "source": []
  }
 ],
 "metadata": {
  "kernelspec": {
   "display_name": "Python 3 (ipykernel)",
   "language": "python",
   "name": "python3"
  },
  "language_info": {
   "codemirror_mode": {
    "name": "ipython",
    "version": 3
   },
   "file_extension": ".py",
   "mimetype": "text/x-python",
   "name": "python",
   "nbconvert_exporter": "python",
   "pygments_lexer": "ipython3",
   "version": "3.9.7"
  }
 },
 "nbformat": 4,
 "nbformat_minor": 1
}
