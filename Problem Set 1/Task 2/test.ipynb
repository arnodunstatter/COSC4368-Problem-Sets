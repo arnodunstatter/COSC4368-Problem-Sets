{
 "cells": [
  {
   "cell_type": "code",
   "execution_count": 1,
   "metadata": {
    "pycharm": {
     "name": "#%%\n"
    }
   },
   "outputs": [],
   "source": [
    "import numpy as np\n",
    "import csp\n",
    "import importlib\n",
    "import pandas as pd"
   ]
  },
  {
   "cell_type": "code",
   "execution_count": 3,
   "metadata": {
    "pycharm": {
     "name": "#%%\n"
    }
   },
   "outputs": [],
   "source": [
    "def charRange(a,z):\n",
    "    return [chr(char) for char in range(ord(a),ord(z)+1)]\n",
    "constraints = [\n",
    "                \"a==b+c+e+f\", #c[0]=c1\n",
    "                \"d==e+f+21\",\n",
    "                \"d**2==e*e*a+694\",\n",
    "                \"e+f<a\",\n",
    "                \"h*j+e*16==(g+i)**2-48\", # c[4]=c5\n",
    "                \"a-c==(h-f)**2+4\",\n",
    "                \"4*j==g**2+7\",\n",
    "                \"2*m==k**2-25\", # c[7]=c8\n",
    "                \"(n-o)**2==(j-f)*o*2\",\n",
    "                \"n**2==m*j+100\",\n",
    "                \"(l+n)**2+1875==g*(b+f)*(k+m+n+30)\",\n",
    "                \"l*o==(a**2)*(k-g)\",\n",
    "                \"l**3==m**2-(o*f*a)\"\n",
    "            ]"
   ]
  },
  {
   "cell_type": "code",
   "execution_count": 8,
   "outputs": [
    {
     "name": "stdout",
     "output_type": "stream",
     "text": [
      "{'a': 6, 'b': 2, 'c': 2, 'e': 6, 'f': 7, 'd': 2, 'h': 2, 'j': 4, 'g': 4, 'i': 1, 'm': 4, 'k': 3, 'n': 4, 'o': 4, 'l': 3}\n"
     ]
    }
   ],
   "source": [
    "constraintsInvolved = {}\n",
    "for constraint in constraints:\n",
    "    for char in constraint:\n",
    "        if char.isalpha():\n",
    "            if char in constraintsInvolved:\n",
    "                constraintsInvolved[char] += 1\n",
    "            else:\n",
    "                constraintsInvolved[char] = 1\n",
    "print(constraintsInvolved)"
   ],
   "metadata": {
    "collapsed": false,
    "pycharm": {
     "name": "#%%\n"
    }
   }
  },
  {
   "cell_type": "markdown",
   "source": [
    "# Problem A solved with V2, V3, and V4"
   ],
   "metadata": {
    "collapsed": false,
    "pycharm": {
     "name": "#%% md\n"
    }
   }
  },
  {
   "cell_type": "code",
   "source": [
    "importlib.reload(csp)\n",
    "problemA = csp.problem(\n",
    "    variables=charRange('a','f'),\n",
    "    constraints=constraints[:4],\n",
    "    domains={var:list(range(1,101)) for var in charRange('a','f')}\n",
    ")\n",
    "problemA.backtrackV2()"
   ],
   "metadata": {
    "collapsed": false,
    "pycharm": {
     "name": "#%%\n"
    }
   },
   "execution_count": 4,
   "outputs": [
    {
     "name": "stdout",
     "output_type": "stream",
     "text": [
      "solution = {'a': 35, 'b': 1, 'c': 28, 'd': 27, 'e': 1, 'f': 5}\n",
      "found in 57263 variable assignemnts\n",
      "order of assignments: ['e', 'a', 'f', 'd', 'b', 'c']\n"
     ]
    }
   ]
  },
  {
   "cell_type": "code",
   "execution_count": 5,
   "outputs": [
    {
     "name": "stdout",
     "output_type": "stream",
     "text": [
      "solution = {'a': 35, 'b': 1, 'c': 28, 'd': 27, 'e': 1, 'f': 5}\n",
      "found in 40 variable assignemnts\n",
      "order of assignments: ['e', 'a', 'd', 'f', 'b', 'c']\n"
     ]
    }
   ],
   "source": [
    "importlib.reload(csp)\n",
    "problemA = csp.problem(\n",
    "    variables=charRange('a','f'),\n",
    "    constraints=constraints[:4],\n",
    "    domains={var:list(range(1,101)) for var in charRange('a','f')}\n",
    ")\n",
    "problemA.backtrackV3()"
   ],
   "metadata": {
    "collapsed": false,
    "pycharm": {
     "name": "#%%\n"
    }
   }
  },
  {
   "cell_type": "code",
   "execution_count": 62,
   "outputs": [
    {
     "ename": "KeyboardInterrupt",
     "evalue": "",
     "output_type": "error",
     "traceback": [
      "\u001B[1;31m---------------------------------------------------------------------------\u001B[0m",
      "\u001B[1;31mKeyboardInterrupt\u001B[0m                         Traceback (most recent call last)",
      "\u001B[1;32m~\\AppData\\Local\\Temp/ipykernel_24724/4188398480.py\u001B[0m in \u001B[0;36m<module>\u001B[1;34m\u001B[0m\n\u001B[0;32m      5\u001B[0m     \u001B[0mdomains\u001B[0m\u001B[1;33m=\u001B[0m\u001B[1;33m{\u001B[0m\u001B[0mvar\u001B[0m\u001B[1;33m:\u001B[0m\u001B[0mlist\u001B[0m\u001B[1;33m(\u001B[0m\u001B[0mrange\u001B[0m\u001B[1;33m(\u001B[0m\u001B[1;36m1\u001B[0m\u001B[1;33m,\u001B[0m\u001B[1;36m101\u001B[0m\u001B[1;33m)\u001B[0m\u001B[1;33m)\u001B[0m \u001B[1;32mfor\u001B[0m \u001B[0mvar\u001B[0m \u001B[1;32min\u001B[0m \u001B[0mcharRange\u001B[0m\u001B[1;33m(\u001B[0m\u001B[1;34m'a'\u001B[0m\u001B[1;33m,\u001B[0m\u001B[1;34m'f'\u001B[0m\u001B[1;33m)\u001B[0m\u001B[1;33m}\u001B[0m\u001B[1;33m\u001B[0m\u001B[1;33m\u001B[0m\u001B[0m\n\u001B[0;32m      6\u001B[0m )\n\u001B[1;32m----> 7\u001B[1;33m \u001B[0mproblemA\u001B[0m\u001B[1;33m.\u001B[0m\u001B[0mbacktrackV4\u001B[0m\u001B[1;33m(\u001B[0m\u001B[1;33m)\u001B[0m\u001B[1;33m\u001B[0m\u001B[1;33m\u001B[0m\u001B[0m\n\u001B[0m",
      "\u001B[1;32m~\\Documents\\School\\Comp Sci\\2022.1 Spring\\COSC 4368 - Artificial Intelligence\\Problem Sets\\Problem Set 1\\Task 2\\csp.py\u001B[0m in \u001B[0;36mbacktrackV4\u001B[1;34m(self)\u001B[0m\n\u001B[0;32m    390\u001B[0m                 \u001B[1;32mreturn\u001B[0m \u001B[1;31m# outer passing of termination\u001B[0m\u001B[1;33m\u001B[0m\u001B[1;33m\u001B[0m\u001B[0m\n\u001B[0;32m    391\u001B[0m \u001B[1;33m\u001B[0m\u001B[0m\n\u001B[1;32m--> 392\u001B[1;33m         \u001B[0mbacktrackV4Recurser\u001B[0m\u001B[1;33m(\u001B[0m\u001B[0mself\u001B[0m\u001B[1;33m)\u001B[0m\u001B[1;33m\u001B[0m\u001B[1;33m\u001B[0m\u001B[0m\n\u001B[0m\u001B[0;32m    393\u001B[0m         \u001B[0msolution\u001B[0m \u001B[1;33m=\u001B[0m \u001B[0mself\u001B[0m\u001B[1;33m.\u001B[0m\u001B[0mvariables\u001B[0m \u001B[1;32mif\u001B[0m \u001B[0mself\u001B[0m\u001B[1;33m.\u001B[0m\u001B[0mgoalTest\u001B[0m\u001B[1;33m(\u001B[0m\u001B[1;34m\"full\"\u001B[0m\u001B[1;33m)\u001B[0m \u001B[1;32melse\u001B[0m \u001B[1;34m\"no solution exists\"\u001B[0m\u001B[1;33m\u001B[0m\u001B[1;33m\u001B[0m\u001B[0m\n\u001B[0;32m    394\u001B[0m         \u001B[0mprint\u001B[0m\u001B[1;33m(\u001B[0m\u001B[1;34mf\"solution = {solution}\\nfound in {self.nva} variable assignemnts\"\u001B[0m\u001B[1;33m)\u001B[0m\u001B[1;33m\u001B[0m\u001B[1;33m\u001B[0m\u001B[0m\n",
      "\u001B[1;32m~\\Documents\\School\\Comp Sci\\2022.1 Spring\\COSC 4368 - Artificial Intelligence\\Problem Sets\\Problem Set 1\\Task 2\\csp.py\u001B[0m in \u001B[0;36mbacktrackV4Recurser\u001B[1;34m(self)\u001B[0m\n\u001B[0;32m    373\u001B[0m                 \u001B[0moriginalVal\u001B[0m \u001B[1;33m=\u001B[0m \u001B[0mself\u001B[0m\u001B[1;33m.\u001B[0m\u001B[0mvariables\u001B[0m\u001B[1;33m[\u001B[0m\u001B[0mcurrentVar\u001B[0m\u001B[1;33m]\u001B[0m\u001B[1;33m\u001B[0m\u001B[1;33m\u001B[0m\u001B[0m\n\u001B[0;32m    374\u001B[0m                 \u001B[0mself\u001B[0m\u001B[1;33m.\u001B[0m\u001B[0morderOfAssignment\u001B[0m\u001B[1;33m.\u001B[0m\u001B[0mappend\u001B[0m\u001B[1;33m(\u001B[0m\u001B[0mcurrentVar\u001B[0m\u001B[1;33m)\u001B[0m\u001B[1;33m\u001B[0m\u001B[1;33m\u001B[0m\u001B[0m\n\u001B[1;32m--> 375\u001B[1;33m                 \u001B[0morderedValuesToTry\u001B[0m \u001B[1;33m=\u001B[0m \u001B[0mself\u001B[0m\u001B[1;33m.\u001B[0m\u001B[0mleastConstrainingValuesFirst\u001B[0m\u001B[1;33m(\u001B[0m\u001B[0mcurrentVar\u001B[0m\u001B[1;33m)\u001B[0m \u001B[1;31m################################################### New\u001B[0m\u001B[1;33m\u001B[0m\u001B[1;33m\u001B[0m\u001B[0m\n\u001B[0m\u001B[0;32m    376\u001B[0m                 \u001B[1;32mfor\u001B[0m \u001B[0mval\u001B[0m \u001B[1;32min\u001B[0m \u001B[0morderedValuesToTry\u001B[0m\u001B[1;33m:\u001B[0m  \u001B[1;31m# select value to assign\u001B[0m\u001B[1;33m\u001B[0m\u001B[1;33m\u001B[0m\u001B[0m\n\u001B[0;32m    377\u001B[0m                     \u001B[0mself\u001B[0m\u001B[1;33m.\u001B[0m\u001B[0mvariables\u001B[0m\u001B[1;33m[\u001B[0m\u001B[0mcurrentVar\u001B[0m\u001B[1;33m]\u001B[0m \u001B[1;33m=\u001B[0m \u001B[0mval\u001B[0m  \u001B[1;31m# push\u001B[0m\u001B[1;33m\u001B[0m\u001B[1;33m\u001B[0m\u001B[0m\n",
      "\u001B[1;32m~\\Documents\\School\\Comp Sci\\2022.1 Spring\\COSC 4368 - Artificial Intelligence\\Problem Sets\\Problem Set 1\\Task 2\\csp.py\u001B[0m in \u001B[0;36mleastConstrainingValuesFirst\u001B[1;34m(self, curVar)\u001B[0m\n\u001B[0;32m    346\u001B[0m                 \u001B[0mdomains\u001B[0m \u001B[1;33m=\u001B[0m \u001B[0mcopy\u001B[0m\u001B[1;33m.\u001B[0m\u001B[0mdeepcopy\u001B[0m\u001B[1;33m(\u001B[0m\u001B[0msubProblemDomains\u001B[0m\u001B[1;33m)\u001B[0m\u001B[1;33m\u001B[0m\u001B[1;33m\u001B[0m\u001B[0m\n\u001B[0;32m    347\u001B[0m             )\n\u001B[1;32m--> 348\u001B[1;33m             \u001B[0msubProblem\u001B[0m\u001B[1;33m.\u001B[0m\u001B[0mcountSolutions\u001B[0m\u001B[1;33m(\u001B[0m\u001B[1;33m)\u001B[0m\u001B[1;33m\u001B[0m\u001B[1;33m\u001B[0m\u001B[0m\n\u001B[0m\u001B[0;32m    349\u001B[0m             \u001B[0mself\u001B[0m\u001B[1;33m.\u001B[0m\u001B[0mnva\u001B[0m \u001B[1;33m+=\u001B[0m \u001B[0msubProblem\u001B[0m\u001B[1;33m.\u001B[0m\u001B[0mnva\u001B[0m\u001B[1;33m\u001B[0m\u001B[1;33m\u001B[0m\u001B[0m\n\u001B[0;32m    350\u001B[0m             \u001B[0mnumberOfSolutions\u001B[0m \u001B[1;33m=\u001B[0m \u001B[0msubProblem\u001B[0m\u001B[1;33m.\u001B[0m\u001B[0msolutionCount\u001B[0m\u001B[1;33m\u001B[0m\u001B[1;33m\u001B[0m\u001B[0m\n",
      "\u001B[1;32m~\\Documents\\School\\Comp Sci\\2022.1 Spring\\COSC 4368 - Artificial Intelligence\\Problem Sets\\Problem Set 1\\Task 2\\csp.py\u001B[0m in \u001B[0;36mcountSolutions\u001B[1;34m(self)\u001B[0m\n\u001B[0;32m    302\u001B[0m                 \u001B[1;32mreturn\u001B[0m  \u001B[1;31m# outer passing of termination\u001B[0m\u001B[1;33m\u001B[0m\u001B[1;33m\u001B[0m\u001B[0m\n\u001B[0;32m    303\u001B[0m \u001B[1;33m\u001B[0m\u001B[0m\n\u001B[1;32m--> 304\u001B[1;33m         \u001B[0mcountSolutionsWithModifiedBacktrackV3Recurser\u001B[0m\u001B[1;33m(\u001B[0m\u001B[0mself\u001B[0m\u001B[1;33m)\u001B[0m\u001B[1;33m\u001B[0m\u001B[1;33m\u001B[0m\u001B[0m\n\u001B[0m\u001B[0;32m    305\u001B[0m         \u001B[1;31m#countSolutionsWithModifiedBacktrackV4Recurser(self)\u001B[0m\u001B[1;33m\u001B[0m\u001B[1;33m\u001B[0m\u001B[0m\n\u001B[0;32m    306\u001B[0m         \u001B[1;32mreturn\u001B[0m \u001B[0mself\u001B[0m\u001B[1;33m.\u001B[0m\u001B[0msolutionCount\u001B[0m\u001B[1;33m\u001B[0m\u001B[1;33m\u001B[0m\u001B[0m\n",
      "\u001B[1;32m~\\Documents\\School\\Comp Sci\\2022.1 Spring\\COSC 4368 - Artificial Intelligence\\Problem Sets\\Problem Set 1\\Task 2\\csp.py\u001B[0m in \u001B[0;36mcountSolutionsWithModifiedBacktrackV3Recurser\u001B[1;34m(self)\u001B[0m\n\u001B[0;32m    265\u001B[0m                     \u001B[1;32mif\u001B[0m \u001B[0mself\u001B[0m\u001B[1;33m.\u001B[0m\u001B[0mgoalTest\u001B[0m\u001B[1;33m(\u001B[0m\u001B[1;34m\"part\"\u001B[0m\u001B[1;33m)\u001B[0m\u001B[1;33m:\u001B[0m\u001B[1;33m\u001B[0m\u001B[1;33m\u001B[0m\u001B[0m\n\u001B[0;32m    266\u001B[0m                         \u001B[0mself\u001B[0m\u001B[1;33m.\u001B[0m\u001B[0mrecurseID\u001B[0m \u001B[1;33m+=\u001B[0m \u001B[1;36m1\u001B[0m\u001B[1;33m\u001B[0m\u001B[1;33m\u001B[0m\u001B[0m\n\u001B[1;32m--> 267\u001B[1;33m                         \u001B[0mcountSolutionsWithModifiedBacktrackV3Recurser\u001B[0m\u001B[1;33m(\u001B[0m\u001B[0mself\u001B[0m\u001B[1;33m)\u001B[0m \u001B[1;31m# this will change domains which is why we need to \"pop\" the domain changes below\u001B[0m\u001B[1;33m\u001B[0m\u001B[1;33m\u001B[0m\u001B[0m\n\u001B[0m\u001B[0;32m    268\u001B[0m                         \u001B[0mself\u001B[0m\u001B[1;33m.\u001B[0m\u001B[0mdomains\u001B[0m \u001B[1;33m=\u001B[0m \u001B[0mcopy\u001B[0m\u001B[1;33m.\u001B[0m\u001B[0mdeepcopy\u001B[0m\u001B[1;33m(\u001B[0m\u001B[0moriginalDomains\u001B[0m\u001B[1;33m)\u001B[0m \u001B[1;31m################################################################################################################BUG FIX\u001B[0m\u001B[1;33m\u001B[0m\u001B[1;33m\u001B[0m\u001B[0m\n\u001B[0;32m    269\u001B[0m                 \u001B[1;31m# pop\u001B[0m\u001B[1;33m\u001B[0m\u001B[1;33m\u001B[0m\u001B[0m\n",
      "\u001B[1;32m~\\Documents\\School\\Comp Sci\\2022.1 Spring\\COSC 4368 - Artificial Intelligence\\Problem Sets\\Problem Set 1\\Task 2\\csp.py\u001B[0m in \u001B[0;36mcountSolutionsWithModifiedBacktrackV3Recurser\u001B[1;34m(self)\u001B[0m\n\u001B[0;32m    253\u001B[0m                 \u001B[0mself\u001B[0m\u001B[1;33m.\u001B[0m\u001B[0msolutionCount\u001B[0m \u001B[1;33m+=\u001B[0m \u001B[1;36m1\u001B[0m\u001B[1;33m\u001B[0m\u001B[1;33m\u001B[0m\u001B[0m\n\u001B[0;32m    254\u001B[0m             \u001B[1;32melse\u001B[0m\u001B[1;33m:\u001B[0m\u001B[1;33m\u001B[0m\u001B[1;33m\u001B[0m\u001B[0m\n\u001B[1;32m--> 255\u001B[1;33m                 \u001B[0moriginalDomains\u001B[0m \u001B[1;33m=\u001B[0m \u001B[0mcopy\u001B[0m\u001B[1;33m.\u001B[0m\u001B[0mdeepcopy\u001B[0m\u001B[1;33m(\u001B[0m\u001B[0mself\u001B[0m\u001B[1;33m.\u001B[0m\u001B[0mdomains\u001B[0m\u001B[1;33m)\u001B[0m\u001B[1;33m\u001B[0m\u001B[1;33m\u001B[0m\u001B[0m\n\u001B[0m\u001B[0;32m    256\u001B[0m                 \u001B[0mself\u001B[0m\u001B[1;33m.\u001B[0m\u001B[0mnewDomains\u001B[0m\u001B[1;33m(\u001B[0m\u001B[1;33m)\u001B[0m\u001B[1;33m\u001B[0m\u001B[1;33m\u001B[0m\u001B[0m\n\u001B[0;32m    257\u001B[0m                 \u001B[1;32mif\u001B[0m \u001B[0mlen\u001B[0m\u001B[1;33m(\u001B[0m\u001B[1;33m[\u001B[0m\u001B[0mlen\u001B[0m\u001B[1;33m(\u001B[0m\u001B[0mdomain\u001B[0m\u001B[1;33m)\u001B[0m \u001B[1;32mfor\u001B[0m \u001B[0mdomain\u001B[0m \u001B[1;32min\u001B[0m \u001B[0mself\u001B[0m\u001B[1;33m.\u001B[0m\u001B[0mdomains\u001B[0m\u001B[1;33m.\u001B[0m\u001B[0mvalues\u001B[0m\u001B[1;33m(\u001B[0m\u001B[1;33m)\u001B[0m \u001B[1;32mif\u001B[0m \u001B[0mlen\u001B[0m\u001B[1;33m(\u001B[0m\u001B[0mdomain\u001B[0m\u001B[1;33m)\u001B[0m \u001B[1;33m==\u001B[0m \u001B[1;36m0\u001B[0m\u001B[1;33m]\u001B[0m\u001B[1;33m)\u001B[0m \u001B[1;33m>\u001B[0m \u001B[1;36m0\u001B[0m\u001B[1;33m:\u001B[0m \u001B[1;31m# if there are any domains whose length are 0 dead end detected\u001B[0m\u001B[1;33m\u001B[0m\u001B[1;33m\u001B[0m\u001B[0m\n",
      "\u001B[1;32mC:\\ProgramData\\Anaconda3\\lib\\copy.py\u001B[0m in \u001B[0;36mdeepcopy\u001B[1;34m(x, memo, _nil)\u001B[0m\n\u001B[0;32m    144\u001B[0m     \u001B[0mcopier\u001B[0m \u001B[1;33m=\u001B[0m \u001B[0m_deepcopy_dispatch\u001B[0m\u001B[1;33m.\u001B[0m\u001B[0mget\u001B[0m\u001B[1;33m(\u001B[0m\u001B[0mcls\u001B[0m\u001B[1;33m)\u001B[0m\u001B[1;33m\u001B[0m\u001B[1;33m\u001B[0m\u001B[0m\n\u001B[0;32m    145\u001B[0m     \u001B[1;32mif\u001B[0m \u001B[0mcopier\u001B[0m \u001B[1;32mis\u001B[0m \u001B[1;32mnot\u001B[0m \u001B[1;32mNone\u001B[0m\u001B[1;33m:\u001B[0m\u001B[1;33m\u001B[0m\u001B[1;33m\u001B[0m\u001B[0m\n\u001B[1;32m--> 146\u001B[1;33m         \u001B[0my\u001B[0m \u001B[1;33m=\u001B[0m \u001B[0mcopier\u001B[0m\u001B[1;33m(\u001B[0m\u001B[0mx\u001B[0m\u001B[1;33m,\u001B[0m \u001B[0mmemo\u001B[0m\u001B[1;33m)\u001B[0m\u001B[1;33m\u001B[0m\u001B[1;33m\u001B[0m\u001B[0m\n\u001B[0m\u001B[0;32m    147\u001B[0m     \u001B[1;32melse\u001B[0m\u001B[1;33m:\u001B[0m\u001B[1;33m\u001B[0m\u001B[1;33m\u001B[0m\u001B[0m\n\u001B[0;32m    148\u001B[0m         \u001B[1;32mif\u001B[0m \u001B[0missubclass\u001B[0m\u001B[1;33m(\u001B[0m\u001B[0mcls\u001B[0m\u001B[1;33m,\u001B[0m \u001B[0mtype\u001B[0m\u001B[1;33m)\u001B[0m\u001B[1;33m:\u001B[0m\u001B[1;33m\u001B[0m\u001B[1;33m\u001B[0m\u001B[0m\n",
      "\u001B[1;32mC:\\ProgramData\\Anaconda3\\lib\\copy.py\u001B[0m in \u001B[0;36m_deepcopy_dict\u001B[1;34m(x, memo, deepcopy)\u001B[0m\n\u001B[0;32m    228\u001B[0m     \u001B[0mmemo\u001B[0m\u001B[1;33m[\u001B[0m\u001B[0mid\u001B[0m\u001B[1;33m(\u001B[0m\u001B[0mx\u001B[0m\u001B[1;33m)\u001B[0m\u001B[1;33m]\u001B[0m \u001B[1;33m=\u001B[0m \u001B[0my\u001B[0m\u001B[1;33m\u001B[0m\u001B[1;33m\u001B[0m\u001B[0m\n\u001B[0;32m    229\u001B[0m     \u001B[1;32mfor\u001B[0m \u001B[0mkey\u001B[0m\u001B[1;33m,\u001B[0m \u001B[0mvalue\u001B[0m \u001B[1;32min\u001B[0m \u001B[0mx\u001B[0m\u001B[1;33m.\u001B[0m\u001B[0mitems\u001B[0m\u001B[1;33m(\u001B[0m\u001B[1;33m)\u001B[0m\u001B[1;33m:\u001B[0m\u001B[1;33m\u001B[0m\u001B[1;33m\u001B[0m\u001B[0m\n\u001B[1;32m--> 230\u001B[1;33m         \u001B[0my\u001B[0m\u001B[1;33m[\u001B[0m\u001B[0mdeepcopy\u001B[0m\u001B[1;33m(\u001B[0m\u001B[0mkey\u001B[0m\u001B[1;33m,\u001B[0m \u001B[0mmemo\u001B[0m\u001B[1;33m)\u001B[0m\u001B[1;33m]\u001B[0m \u001B[1;33m=\u001B[0m \u001B[0mdeepcopy\u001B[0m\u001B[1;33m(\u001B[0m\u001B[0mvalue\u001B[0m\u001B[1;33m,\u001B[0m \u001B[0mmemo\u001B[0m\u001B[1;33m)\u001B[0m\u001B[1;33m\u001B[0m\u001B[1;33m\u001B[0m\u001B[0m\n\u001B[0m\u001B[0;32m    231\u001B[0m     \u001B[1;32mreturn\u001B[0m \u001B[0my\u001B[0m\u001B[1;33m\u001B[0m\u001B[1;33m\u001B[0m\u001B[0m\n\u001B[0;32m    232\u001B[0m \u001B[0md\u001B[0m\u001B[1;33m[\u001B[0m\u001B[0mdict\u001B[0m\u001B[1;33m]\u001B[0m \u001B[1;33m=\u001B[0m \u001B[0m_deepcopy_dict\u001B[0m\u001B[1;33m\u001B[0m\u001B[1;33m\u001B[0m\u001B[0m\n",
      "\u001B[1;32mC:\\ProgramData\\Anaconda3\\lib\\copy.py\u001B[0m in \u001B[0;36mdeepcopy\u001B[1;34m(x, memo, _nil)\u001B[0m\n\u001B[0;32m    144\u001B[0m     \u001B[0mcopier\u001B[0m \u001B[1;33m=\u001B[0m \u001B[0m_deepcopy_dispatch\u001B[0m\u001B[1;33m.\u001B[0m\u001B[0mget\u001B[0m\u001B[1;33m(\u001B[0m\u001B[0mcls\u001B[0m\u001B[1;33m)\u001B[0m\u001B[1;33m\u001B[0m\u001B[1;33m\u001B[0m\u001B[0m\n\u001B[0;32m    145\u001B[0m     \u001B[1;32mif\u001B[0m \u001B[0mcopier\u001B[0m \u001B[1;32mis\u001B[0m \u001B[1;32mnot\u001B[0m \u001B[1;32mNone\u001B[0m\u001B[1;33m:\u001B[0m\u001B[1;33m\u001B[0m\u001B[1;33m\u001B[0m\u001B[0m\n\u001B[1;32m--> 146\u001B[1;33m         \u001B[0my\u001B[0m \u001B[1;33m=\u001B[0m \u001B[0mcopier\u001B[0m\u001B[1;33m(\u001B[0m\u001B[0mx\u001B[0m\u001B[1;33m,\u001B[0m \u001B[0mmemo\u001B[0m\u001B[1;33m)\u001B[0m\u001B[1;33m\u001B[0m\u001B[1;33m\u001B[0m\u001B[0m\n\u001B[0m\u001B[0;32m    147\u001B[0m     \u001B[1;32melse\u001B[0m\u001B[1;33m:\u001B[0m\u001B[1;33m\u001B[0m\u001B[1;33m\u001B[0m\u001B[0m\n\u001B[0;32m    148\u001B[0m         \u001B[1;32mif\u001B[0m \u001B[0missubclass\u001B[0m\u001B[1;33m(\u001B[0m\u001B[0mcls\u001B[0m\u001B[1;33m,\u001B[0m \u001B[0mtype\u001B[0m\u001B[1;33m)\u001B[0m\u001B[1;33m:\u001B[0m\u001B[1;33m\u001B[0m\u001B[1;33m\u001B[0m\u001B[0m\n",
      "\u001B[1;32mC:\\ProgramData\\Anaconda3\\lib\\copy.py\u001B[0m in \u001B[0;36m_deepcopy_list\u001B[1;34m(x, memo, deepcopy)\u001B[0m\n\u001B[0;32m    203\u001B[0m     \u001B[0mappend\u001B[0m \u001B[1;33m=\u001B[0m \u001B[0my\u001B[0m\u001B[1;33m.\u001B[0m\u001B[0mappend\u001B[0m\u001B[1;33m\u001B[0m\u001B[1;33m\u001B[0m\u001B[0m\n\u001B[0;32m    204\u001B[0m     \u001B[1;32mfor\u001B[0m \u001B[0ma\u001B[0m \u001B[1;32min\u001B[0m \u001B[0mx\u001B[0m\u001B[1;33m:\u001B[0m\u001B[1;33m\u001B[0m\u001B[1;33m\u001B[0m\u001B[0m\n\u001B[1;32m--> 205\u001B[1;33m         \u001B[0mappend\u001B[0m\u001B[1;33m(\u001B[0m\u001B[0mdeepcopy\u001B[0m\u001B[1;33m(\u001B[0m\u001B[0ma\u001B[0m\u001B[1;33m,\u001B[0m \u001B[0mmemo\u001B[0m\u001B[1;33m)\u001B[0m\u001B[1;33m)\u001B[0m\u001B[1;33m\u001B[0m\u001B[1;33m\u001B[0m\u001B[0m\n\u001B[0m\u001B[0;32m    206\u001B[0m     \u001B[1;32mreturn\u001B[0m \u001B[0my\u001B[0m\u001B[1;33m\u001B[0m\u001B[1;33m\u001B[0m\u001B[0m\n\u001B[0;32m    207\u001B[0m \u001B[0md\u001B[0m\u001B[1;33m[\u001B[0m\u001B[0mlist\u001B[0m\u001B[1;33m]\u001B[0m \u001B[1;33m=\u001B[0m \u001B[0m_deepcopy_list\u001B[0m\u001B[1;33m\u001B[0m\u001B[1;33m\u001B[0m\u001B[0m\n",
      "\u001B[1;31mKeyboardInterrupt\u001B[0m: "
     ]
    }
   ],
   "source": [
    "importlib.reload(csp)\n",
    "problemA = csp.problem(\n",
    "    variables=charRange('a','f'),\n",
    "    constraints=constraints[:4],\n",
    "    domains={var:list(range(1,101)) for var in charRange('a','f')}\n",
    ")\n",
    "problemA.backtrackV4()"
   ],
   "metadata": {
    "collapsed": false,
    "pycharm": {
     "name": "#%%\n"
    }
   }
  },
  {
   "cell_type": "markdown",
   "source": [
    "# Problem B solved with V2, V3, and V4"
   ],
   "metadata": {
    "collapsed": false,
    "pycharm": {
     "name": "#%% md\n"
    }
   }
  },
  {
   "cell_type": "code",
   "source": [
    "importlib.reload(csp)\n",
    "problemB = csp.problem(\n",
    "    variables=charRange('a','j'),\n",
    "    constraints=constraints[:7],\n",
    "    domains={var:list(range(1,101)) for var in charRange('a','j')}\n",
    ")\n",
    "problemB.backtrackV2()"
   ],
   "metadata": {
    "collapsed": false,
    "pycharm": {
     "name": "#%%\n"
    }
   },
   "execution_count": 38,
   "outputs": [
    {
     "name": "stdout",
     "output_type": "stream",
     "text": [
      "solution = {'a': 35, 'b': 23, 'c': 6, 'd': 27, 'e': 1, 'f': 5, 'g': 5, 'h': 10, 'i': 7, 'j': 8}\n",
      "found in 5483215 variable assignemnts\n",
      "order of assignments: ['e', 'a', 'f', 'c', 'd', 'g', 'h', 'j', 'b', 'i']\n"
     ]
    }
   ]
  },
  {
   "cell_type": "code",
   "execution_count": 6,
   "outputs": [
    {
     "name": "stdout",
     "output_type": "stream",
     "text": [
      "solution = {'a': 35, 'b': 23, 'c': 6, 'd': 27, 'e': 1, 'f': 5, 'g': 5, 'h': 10, 'i': 7, 'j': 8}\n",
      "found in 57 variable assignemnts\n",
      "order of assignments: ['e', 'a', 'd', 'f', 'c', 'h', 'b', 'g', 'j', 'i']\n"
     ]
    }
   ],
   "source": [
    "importlib.reload(csp)\n",
    "problemB = csp.problem(\n",
    "    variables=charRange('a','j'),\n",
    "    constraints=constraints[:7],\n",
    "    domains={var:list(range(1,101)) for var in charRange('a','j')}\n",
    ")\n",
    "problemB.backtrackV3()"
   ],
   "metadata": {
    "collapsed": false,
    "pycharm": {
     "name": "#%%\n"
    }
   }
  },
  {
   "cell_type": "markdown",
   "metadata": {
    "pycharm": {
     "name": "#%% md\n"
    }
   },
   "source": [
    "# Problem C solved with V2, V3, and V4"
   ]
  },
  {
   "cell_type": "code",
   "execution_count": 7,
   "outputs": [
    {
     "name": "stdout",
     "output_type": "stream",
     "text": [
      "solution = {'a': 10, 'b': 1, 'c': 2, 'd': 28, 'e': 3, 'f': 4, 'g': 5, 'h': 6, 'i': 7, 'j': 8, 'k': 15, 'l': 20, 'm': 100, 'n': 30, 'o': 50}\n",
      "found in 15228 variable assignemnts\n",
      "order of assignments: ['f', 'a', 'e', 'd', 'g', 'j', 'm', 'k', 'n', 'o', 'l', 'b', 'c', 'h', 'i']\n"
     ]
    }
   ],
   "source": [
    "importlib.reload(csp)\n",
    "problemC = csp.problem(\n",
    "    variables=charRange('a','o'),\n",
    "    constraints=constraints[:13],\n",
    "    domains={var:list(range(1,101)) for var in charRange('a','o')}\n",
    ")\n",
    "problemC.backtrackV3()"
   ],
   "metadata": {
    "collapsed": false,
    "pycharm": {
     "name": "#%%\n"
    }
   }
  },
  {
   "cell_type": "markdown",
   "source": [
    "# Other Tests\n"
   ],
   "metadata": {
    "collapsed": false,
    "pycharm": {
     "name": "#%% md\n"
    }
   }
  },
  {
   "cell_type": "code",
   "execution_count": 61,
   "outputs": [
    {
     "name": "stdout",
     "output_type": "stream",
     "text": [
      "solution = {'x': -2, 'y': -3, 'z': 3}\n",
      "found in 186 variable assignemnts\n",
      "order of assignments: ['x', 'y', 'z']\n"
     ]
    }
   ],
   "source": [
    "importlib.reload(csp)\n",
    "cust1 = csp.problem(\n",
    "    variables=charRange('x','z'),\n",
    "    constraints=[\"-x-5*y-5*z==2\",\"4*x-5*y+4*z==19\",\"x+5*y-z==-20\"],\n",
    "    domains = {c:list(range(-10,10)) for c in charRange('x','z')}\n",
    ")\n",
    "cust1.backtrackV3()"
   ],
   "metadata": {
    "collapsed": false,
    "pycharm": {
     "name": "#%%\n"
    }
   }
  },
  {
   "cell_type": "code",
   "execution_count": 53,
   "outputs": [
    {
     "name": "stdout",
     "output_type": "stream",
     "text": [
      "solution = {'x': -2, 'y': -3, 'z': 3}\n",
      "found in 186 variable assignemnts\n",
      "order of assignments: ['x', 'y', 'z']\n"
     ]
    }
   ],
   "source": [
    "importlib.reload(csp)\n",
    "cust2 = csp.problem(\n",
    "    variables=charRange('x','z'),\n",
    "    constraints=[\"-x-5*y-5*z==2\",\"4*x-5*y+4*z==19\",\"x+5*y-z==-20\"],\n",
    "    domains = {c:list(range(-10,10)) for c in charRange('x','z')}\n",
    ")\n",
    "cust2.backtrackV3()"
   ],
   "metadata": {
    "collapsed": false,
    "pycharm": {
     "name": "#%%\n"
    }
   }
  },
  {
   "cell_type": "code",
   "execution_count": 59,
   "outputs": [
    {
     "name": "stdout",
     "output_type": "stream",
     "text": [
      "solution = {'a': 5, 'b': 10, 'c': 25, 'd': 2}\n",
      "found in 934 variable assignemnts\n",
      "order of assignments: ['b', 'd', 'a', 'c']\n"
     ]
    }
   ],
   "source": [
    "importlib.reload(csp)\n",
    "cust3 = csp.problem(\n",
    "    variables=charRange('a','d'),\n",
    "    constraints=[\"d*a**2==2*(2*b+a)\",\"d*c+25==b**2-a**2\",\"2*b+c==5*b-2*d-1\"],\n",
    "    domains={c:list(range(1,100)) for c in charRange('a','d')}\n",
    ")\n",
    "cust3.backtrackV3()"
   ],
   "metadata": {
    "collapsed": false,
    "pycharm": {
     "name": "#%%\n"
    }
   }
  },
  {
   "cell_type": "code",
   "execution_count": null,
   "outputs": [],
   "source": [
    "importlib.reload(csp)\n",
    "cust3 = csp.problem(\n",
    "    variables=charRange('a','d'),\n",
    "    constraints=[\"d*a**2==2*(2*b+a)\",\"d*c+25==b**2-a**2\",\"2*b+c==5*a-2*d-1\"],\n",
    "    domains={c:list(range(1,100)) for c in charRange('a','d')}\n",
    ")\n",
    "cust3.backtrackV3()"
   ],
   "metadata": {
    "collapsed": false,
    "pycharm": {
     "name": "#%%\n"
    }
   }
  },
  {
   "cell_type": "code",
   "execution_count": null,
   "outputs": [],
   "source": [
    "importlib.reload(csp)\n",
    "problemA = csp.problem(\n",
    "    variables=charRange('a','f'),\n",
    "    constraints=constraints[:4],\n",
    "    domains={var:list(range(1,101)) for var in charRange('a','f')}\n",
    ")\n",
    "problemA.countSolutions()"
   ],
   "metadata": {
    "collapsed": false,
    "pycharm": {
     "name": "#%%\n"
    }
   }
  },
  {
   "cell_type": "code",
   "execution_count": 55,
   "outputs": [],
   "source": [
    "solutionsABC = pd.DataFrame(data=[problemA.variables, problemB.variables, problemC.variables], index = [\"A\",\"B\",\"C\"]).astype(\"Int64\")\n",
    "solutionsABC\n",
    "solutionsABC.to_csv(\"solutionsToABC\")"
   ],
   "metadata": {
    "collapsed": false,
    "pycharm": {
     "name": "#%%\n"
    }
   }
  }
 ],
 "metadata": {
  "kernelspec": {
   "display_name": "Python 3 (ipykernel)",
   "language": "python",
   "name": "python3"
  },
  "language_info": {
   "codemirror_mode": {
    "name": "ipython",
    "version": 3
   },
   "file_extension": ".py",
   "mimetype": "text/x-python",
   "name": "python",
   "nbconvert_exporter": "python",
   "pygments_lexer": "ipython3",
   "version": "3.9.7"
  }
 },
 "nbformat": 4,
 "nbformat_minor": 1
}