{
  "nbformat": 4,
  "nbformat_minor": 0,
  "metadata": {
    "colab": {
      "name": "4368 PS1T1.ipynb",
      "provenance": [],
      "toc_visible": true
    },
    "kernelspec": {
      "name": "python3",
      "display_name": "Python 3"
    },
    "language_info": {
      "name": "python"
    }
  },
  "cells": [
    {
      "cell_type": "markdown",
      "source": [
        "# Task 1: Implementing and Experimenting with Randomized Hill CLimbing"
      ],
      "metadata": {
        "id": "c7DEJVjJW498"
      }
    },
    {
      "cell_type": "markdown",
      "source": [
        "## Function Definitions\n"
      ],
      "metadata": {
        "id": "CjIIzsSNXCtz"
      }
    },
    {
      "cell_type": "markdown",
      "source": [
        "### Our objective function, f\n",
        "$f(x,y)= -(y+47)⋅\\sin{\\sqrt{|\\frac{x}{2}+(y+47)|}}-x⋅\\sin{\\sqrt{|x-(y+47)|}}$"
      ],
      "metadata": {
        "id": "SszoKQv1XIoV"
      }
    },
    {
      "cell_type": "code",
      "execution_count": null,
      "metadata": {
        "id": "2wR5MZTuWMo9",
        "colab": {
          "base_uri": "https://localhost:8080/"
        },
        "outputId": "107f5460-3675-4421-ca81-5e5b04cd42d2"
      },
      "outputs": [
        {
          "output_type": "stream",
          "name": "stdout",
          "text": [
            "time: 4.41 ms (started: 2022-02-17 02:53:17 +00:00)\n"
          ]
        }
      ],
      "source": [
        "def f(x,y):\n",
        "  import math\n",
        "\n",
        "  # guard to enforce range restrictions\n",
        "  if x < -512 or x > 512:\n",
        "    print(f\"x = {x} which is outside of bounds [-512,512]\")\n",
        "    return\n",
        "  if y < -512 or y > 512:\n",
        "    print(f\"y = {y} which is outside of bounds [-512,512]\")\n",
        "    return\n",
        "\n",
        "  return -1*(y+47)*math.sin( (abs( (x/2) + (y + 47) ) )**0.5 ) - x*math.sin( (abs( x - (y + 47) ))**0.5 )"
      ]
    },
    {
      "cell_type": "markdown",
      "source": [
        "#### Here we check that the function is written correctly.\n",
        "Based on Steve's post in teams the function should have the following evaluations: <br /> \n",
        "* $f(404, 504)= -234.0791964837813$\n",
        "* $f(0, 0.23) = -26.24644115988084$\n",
        "* $f(-200, 300) = -194.11322741864842$\n",
        "* $f(412,-99.9) = -181.75129808649814$\n"
      ],
      "metadata": {
        "id": "4bUwMaIOkGEu"
      }
    },
    {
      "cell_type": "code",
      "source": [
        "print(f\"f(404,504) = {f(404,504)}\")\n",
        "print(f\"f(0,0.23) = {f(0,0.23)}\")\n",
        "print(f\"f(-200,300) = {f(-200,300)}\")\n",
        "print(f\"f(412,-99.9) = {f(412,-99.9)}\")"
      ],
      "metadata": {
        "colab": {
          "base_uri": "https://localhost:8080/"
        },
        "id": "i875fIBjkDrc",
        "outputId": "172f21e5-a34d-4a47-e1d5-d837215f2b6b"
      },
      "execution_count": null,
      "outputs": [
        {
          "output_type": "stream",
          "name": "stdout",
          "text": [
            "f(404,504) = -235.0791964837813\n",
            "f(0,0.23) = -26.24644115988084\n",
            "f(-200,300) = -194.11322741864842\n",
            "f(412,-99.9) = -181.75129808649817\n"
          ]
        }
      ]
    },
    {
      "cell_type": "markdown",
      "source": [
        "Despite the slight discrepancy of the very last digit of the last point's evaluation, overall this confirms the f(x,y) function is written correctly."
      ],
      "metadata": {
        "id": "SAAlMQDKl1Go"
      }
    },
    {
      "cell_type": "markdown",
      "source": [
        "### Our Random Hill Climber, RHC\n",
        "This takes as input parameters:<br />\n",
        "  * sp: the starting point of the RHC run<br />\n",
        "  * p: the number of neighbors of the current solution that will be generated in the sample<br />\n",
        "  * z: the neighbnorhood size<br />\n",
        "  * seed: a seed value for the random number generator<br /><br />\n",
        "\n",
        "This returns: <br />\n",
        "* solutionCounter: the number of solutions that were generated during the run (the total number of points produced in all samplings of neighborhoods) <br />\n",
        "* (x,y): the best found solution, as a vector (as a tuple here in python) <br />\n",
        "* f(x,y): the value of this new solution <br />\n",
        "<br />\n",
        "\n",
        "The subfunction sampler takes in sp, p, and z as inputs and returns a numpy array of tuples which are \n"
      ],
      "metadata": {
        "id": "4Su-VZPMXSP4"
      }
    },
    {
      "cell_type": "code",
      "source": [
        "def RHC(sp, p, z, seed): # new\n",
        "  import random\n",
        "  import numpy as np\n",
        "  random.seed(seed)\n",
        "  def sampler(sp, p, z): # this produces our p samples offset by +/- z around sp\n",
        "    sample = []\n",
        "    for i in range(p):\n",
        "      xOffset, yOffset = random.uniform(-z,z), random.uniform(-z,z)\n",
        "      x,y = sp[0]+xOffset, sp[1]+yOffset\n",
        "\n",
        "      while x < -512 or x > 512:\n",
        "        xOffset = random.uniform(-z,z)\n",
        "        x = sp[0]+xOffset\n",
        "      while y < -512 or y > 512:\n",
        "        yOffset = random.uniform(-z,z)\n",
        "        y = sp[1]+yOffset\n",
        "    \n",
        "      sample.append((x,y))\n",
        "    return np.array(sample)\n",
        "\n",
        "  solutionCounter = 0\n",
        "  # this while loop is the heart of the RHC\n",
        "  x, y = sp[0], sp[1]\n",
        "  oldBestVal = f(x,y) # the very first start point evaluation\n",
        "  curBestVal = oldBestVal\n",
        "  solutionCounter += 1\n",
        "  while True:\n",
        "    sample = sampler((x,y), p, z)\n",
        "\n",
        "    for s in sample: # for each point in the sample\n",
        "      newVal = f(s[0], s[1]) # is f(eachPoint) better than the oldBestVal?\n",
        "      solutionCounter += 1\n",
        "      if newVal < curBestVal: # we use < because we're trying to minimize f\n",
        "        # if it's better we update bestVal, and (x,y)\n",
        "        curBestVal = newVal        \n",
        "        x, y = s[0], s[1]\n",
        "    \n",
        "    if curBestVal == oldBestVal: # we aren't finding better values any more, terminate\n",
        "      break\n",
        "    else: oldBestVal = curBestVal\n",
        "\n",
        "  return solutionCounter, (x,y), curBestVal"
      ],
      "metadata": {
        "id": "DfmUECTdUyVO"
      },
      "execution_count": null,
      "outputs": []
    },
    {
      "cell_type": "markdown",
      "source": [
        "## Testing RHC against 32 combinations of input parameters\n",
        "The 32 combinations of input parameters will be broken into 4 sets of 8 combinations, 1 set for each combination of p and z inputs.<br /><br />\n",
        "\n",
        "The starting points iterated through are as follows:<br />\n",
        "(-200, 300)<br />\n",
        "(0, 0.23)<br />\n",
        "(404, 504)<br />\n",
        "(412, -99.9)<br />\n",
        "\n",
        "Each \"run1\" will have a seed value of 1, and each \"run2\" will have a seed value of 2.\n",
        "\n"
      ],
      "metadata": {
        "id": "cVCMtEW_zzR4"
      }
    },
    {
      "cell_type": "markdown",
      "source": [
        "### some basic setup"
      ],
      "metadata": {
        "id": "2Iy6zuqF24Mj"
      }
    },
    {
      "cell_type": "code",
      "source": [
        "import pandas as pd # will be used to display tables\n",
        "import numpy as np\n",
        "import math\n",
        "!pip install ipython-autotime\n",
        "%load_ext autotime"
      ],
      "metadata": {
        "id": "9EbIpQAJ1YxE",
        "colab": {
          "base_uri": "https://localhost:8080/"
        },
        "outputId": "dc652ecf-b3cb-460d-dd33-62bc95dd2be1"
      },
      "execution_count": null,
      "outputs": [
        {
          "output_type": "stream",
          "name": "stdout",
          "text": [
            "Collecting ipython-autotime\n",
            "  Downloading ipython_autotime-0.3.1-py2.py3-none-any.whl (6.8 kB)\n",
            "Requirement already satisfied: ipython in /usr/local/lib/python3.7/dist-packages (from ipython-autotime) (5.5.0)\n",
            "Requirement already satisfied: traitlets>=4.2 in /usr/local/lib/python3.7/dist-packages (from ipython->ipython-autotime) (5.1.1)\n",
            "Requirement already satisfied: pexpect in /usr/local/lib/python3.7/dist-packages (from ipython->ipython-autotime) (4.8.0)\n",
            "Requirement already satisfied: prompt-toolkit<2.0.0,>=1.0.4 in /usr/local/lib/python3.7/dist-packages (from ipython->ipython-autotime) (1.0.18)\n",
            "Requirement already satisfied: pygments in /usr/local/lib/python3.7/dist-packages (from ipython->ipython-autotime) (2.6.1)\n",
            "Requirement already satisfied: simplegeneric>0.8 in /usr/local/lib/python3.7/dist-packages (from ipython->ipython-autotime) (0.8.1)\n",
            "Requirement already satisfied: setuptools>=18.5 in /usr/local/lib/python3.7/dist-packages (from ipython->ipython-autotime) (57.4.0)\n",
            "Requirement already satisfied: decorator in /usr/local/lib/python3.7/dist-packages (from ipython->ipython-autotime) (4.4.2)\n",
            "Requirement already satisfied: pickleshare in /usr/local/lib/python3.7/dist-packages (from ipython->ipython-autotime) (0.7.5)\n",
            "Requirement already satisfied: six>=1.9.0 in /usr/local/lib/python3.7/dist-packages (from prompt-toolkit<2.0.0,>=1.0.4->ipython->ipython-autotime) (1.15.0)\n",
            "Requirement already satisfied: wcwidth in /usr/local/lib/python3.7/dist-packages (from prompt-toolkit<2.0.0,>=1.0.4->ipython->ipython-autotime) (0.2.5)\n",
            "Requirement already satisfied: ptyprocess>=0.5 in /usr/local/lib/python3.7/dist-packages (from pexpect->ipython->ipython-autotime) (0.7.0)\n",
            "Installing collected packages: ipython-autotime\n",
            "Successfully installed ipython-autotime-0.3.1\n",
            "time: 215 µs (started: 2022-02-17 02:52:31 +00:00)\n"
          ]
        }
      ]
    },
    {
      "cell_type": "code",
      "source": [
        "startingPoints = np.array([(-200,300),(0,0.23),(404,504),(412,-99.9)])\n",
        "seeds = [1,2]"
      ],
      "metadata": {
        "id": "UsIY2hVs27ct",
        "colab": {
          "base_uri": "https://localhost:8080/"
        },
        "outputId": "524adda1-06fe-4615-9ec9-f0954f7ca03c"
      },
      "execution_count": null,
      "outputs": [
        {
          "output_type": "stream",
          "name": "stdout",
          "text": [
            "time: 1.74 ms (started: 2022-02-17 02:53:09 +00:00)\n"
          ]
        }
      ]
    },
    {
      "cell_type": "markdown",
      "source": [
        "### Table 1: z = 0.5, p = 30"
      ],
      "metadata": {
        "id": "gQw9NlkS1TN4"
      }
    },
    {
      "cell_type": "code",
      "source": [
        "run1 = pd.DataFrame(columns=[\"startingPoint\",\"#solSearched\",\"sol\",\"f(sol)\"])\n",
        "for sp in startingPoints:\n",
        "  run1.loc[len(run1.index)] = [sp,*list(RHC(sp,30,0.5,seeds[0]))]\n",
        "run1"
      ],
      "metadata": {
        "colab": {
          "base_uri": "https://localhost:8080/",
          "height": 192
        },
        "id": "Q6a6wEjB1kdR",
        "outputId": "84dbca13-e202-46b3-cf92-19a45596f4e8"
      },
      "execution_count": null,
      "outputs": [
        {
          "output_type": "execute_result",
          "data": {
            "text/html": [
              "\n",
              "  <div id=\"df-0ba3f86a-595a-4246-9e6b-665bc900f61d\">\n",
              "    <div class=\"colab-df-container\">\n",
              "      <div>\n",
              "<style scoped>\n",
              "    .dataframe tbody tr th:only-of-type {\n",
              "        vertical-align: middle;\n",
              "    }\n",
              "\n",
              "    .dataframe tbody tr th {\n",
              "        vertical-align: top;\n",
              "    }\n",
              "\n",
              "    .dataframe thead th {\n",
              "        text-align: right;\n",
              "    }\n",
              "</style>\n",
              "<table border=\"1\" class=\"dataframe\">\n",
              "  <thead>\n",
              "    <tr style=\"text-align: right;\">\n",
              "      <th></th>\n",
              "      <th>startingPoint</th>\n",
              "      <th>#solSearched</th>\n",
              "      <th>sol</th>\n",
              "      <th>f(sol)</th>\n",
              "    </tr>\n",
              "  </thead>\n",
              "  <tbody>\n",
              "    <tr>\n",
              "      <th>0</th>\n",
              "      <td>[-200.0, 300.0]</td>\n",
              "      <td>3151</td>\n",
              "      <td>(-242.91913880836157, 274.33944723793724)</td>\n",
              "      <td>-559.786274</td>\n",
              "    </tr>\n",
              "    <tr>\n",
              "      <th>1</th>\n",
              "      <td>[0.0, 0.23]</td>\n",
              "      <td>1171</td>\n",
              "      <td>(8.527950694234312, 15.621670186491828)</td>\n",
              "      <td>-66.843301</td>\n",
              "    </tr>\n",
              "    <tr>\n",
              "      <th>2</th>\n",
              "      <td>[404.0, 504.0]</td>\n",
              "      <td>3931</td>\n",
              "      <td>(347.2934334493836, 499.3280929227168)</td>\n",
              "      <td>-888.947460</td>\n",
              "    </tr>\n",
              "    <tr>\n",
              "      <th>3</th>\n",
              "      <td>[412.0, -99.9]</td>\n",
              "      <td>3781</td>\n",
              "      <td>(361.76696942598784, -106.84295744185859)</td>\n",
              "      <td>-419.310069</td>\n",
              "    </tr>\n",
              "  </tbody>\n",
              "</table>\n",
              "</div>\n",
              "      <button class=\"colab-df-convert\" onclick=\"convertToInteractive('df-0ba3f86a-595a-4246-9e6b-665bc900f61d')\"\n",
              "              title=\"Convert this dataframe to an interactive table.\"\n",
              "              style=\"display:none;\">\n",
              "        \n",
              "  <svg xmlns=\"http://www.w3.org/2000/svg\" height=\"24px\"viewBox=\"0 0 24 24\"\n",
              "       width=\"24px\">\n",
              "    <path d=\"M0 0h24v24H0V0z\" fill=\"none\"/>\n",
              "    <path d=\"M18.56 5.44l.94 2.06.94-2.06 2.06-.94-2.06-.94-.94-2.06-.94 2.06-2.06.94zm-11 1L8.5 8.5l.94-2.06 2.06-.94-2.06-.94L8.5 2.5l-.94 2.06-2.06.94zm10 10l.94 2.06.94-2.06 2.06-.94-2.06-.94-.94-2.06-.94 2.06-2.06.94z\"/><path d=\"M17.41 7.96l-1.37-1.37c-.4-.4-.92-.59-1.43-.59-.52 0-1.04.2-1.43.59L10.3 9.45l-7.72 7.72c-.78.78-.78 2.05 0 2.83L4 21.41c.39.39.9.59 1.41.59.51 0 1.02-.2 1.41-.59l7.78-7.78 2.81-2.81c.8-.78.8-2.07 0-2.86zM5.41 20L4 18.59l7.72-7.72 1.47 1.35L5.41 20z\"/>\n",
              "  </svg>\n",
              "      </button>\n",
              "      \n",
              "  <style>\n",
              "    .colab-df-container {\n",
              "      display:flex;\n",
              "      flex-wrap:wrap;\n",
              "      gap: 12px;\n",
              "    }\n",
              "\n",
              "    .colab-df-convert {\n",
              "      background-color: #E8F0FE;\n",
              "      border: none;\n",
              "      border-radius: 50%;\n",
              "      cursor: pointer;\n",
              "      display: none;\n",
              "      fill: #1967D2;\n",
              "      height: 32px;\n",
              "      padding: 0 0 0 0;\n",
              "      width: 32px;\n",
              "    }\n",
              "\n",
              "    .colab-df-convert:hover {\n",
              "      background-color: #E2EBFA;\n",
              "      box-shadow: 0px 1px 2px rgba(60, 64, 67, 0.3), 0px 1px 3px 1px rgba(60, 64, 67, 0.15);\n",
              "      fill: #174EA6;\n",
              "    }\n",
              "\n",
              "    [theme=dark] .colab-df-convert {\n",
              "      background-color: #3B4455;\n",
              "      fill: #D2E3FC;\n",
              "    }\n",
              "\n",
              "    [theme=dark] .colab-df-convert:hover {\n",
              "      background-color: #434B5C;\n",
              "      box-shadow: 0px 1px 3px 1px rgba(0, 0, 0, 0.15);\n",
              "      filter: drop-shadow(0px 1px 2px rgba(0, 0, 0, 0.3));\n",
              "      fill: #FFFFFF;\n",
              "    }\n",
              "  </style>\n",
              "\n",
              "      <script>\n",
              "        const buttonEl =\n",
              "          document.querySelector('#df-0ba3f86a-595a-4246-9e6b-665bc900f61d button.colab-df-convert');\n",
              "        buttonEl.style.display =\n",
              "          google.colab.kernel.accessAllowed ? 'block' : 'none';\n",
              "\n",
              "        async function convertToInteractive(key) {\n",
              "          const element = document.querySelector('#df-0ba3f86a-595a-4246-9e6b-665bc900f61d');\n",
              "          const dataTable =\n",
              "            await google.colab.kernel.invokeFunction('convertToInteractive',\n",
              "                                                     [key], {});\n",
              "          if (!dataTable) return;\n",
              "\n",
              "          const docLinkHtml = 'Like what you see? Visit the ' +\n",
              "            '<a target=\"_blank\" href=https://colab.research.google.com/notebooks/data_table.ipynb>data table notebook</a>'\n",
              "            + ' to learn more about interactive tables.';\n",
              "          element.innerHTML = '';\n",
              "          dataTable['output_type'] = 'display_data';\n",
              "          await google.colab.output.renderOutput(dataTable, element);\n",
              "          const docLink = document.createElement('div');\n",
              "          docLink.innerHTML = docLinkHtml;\n",
              "          element.appendChild(docLink);\n",
              "        }\n",
              "      </script>\n",
              "    </div>\n",
              "  </div>\n",
              "  "
            ],
            "text/plain": [
              "     startingPoint  ...      f(sol)\n",
              "0  [-200.0, 300.0]  ... -559.786274\n",
              "1      [0.0, 0.23]  ...  -66.843301\n",
              "2   [404.0, 504.0]  ... -888.947460\n",
              "3   [412.0, -99.9]  ... -419.310069\n",
              "\n",
              "[4 rows x 4 columns]"
            ]
          },
          "metadata": {},
          "execution_count": 25
        },
        {
          "output_type": "stream",
          "name": "stdout",
          "text": [
            "time: 122 ms (started: 2022-02-15 23:30:03 +00:00)\n"
          ]
        }
      ]
    },
    {
      "cell_type": "code",
      "source": [
        "run2 = pd.DataFrame(columns=[\"startingPoint\",\"#solSearched\",\"sol\",\"f(sol)\"])\n",
        "for sp in startingPoints:\n",
        "  run2.loc[len(run2.index)] = [sp,*list(RHC(sp,30,0.5,seeds[1]))]\n",
        "run2"
      ],
      "metadata": {
        "colab": {
          "base_uri": "https://localhost:8080/",
          "height": 192
        },
        "id": "t5xKa5PjXPn9",
        "outputId": "0ca6fa8f-9112-43d5-99d7-6d50041f464a"
      },
      "execution_count": null,
      "outputs": [
        {
          "output_type": "execute_result",
          "data": {
            "text/html": [
              "\n",
              "  <div id=\"df-60dcc117-adf3-4a5e-894b-9dd19d9bee1b\">\n",
              "    <div class=\"colab-df-container\">\n",
              "      <div>\n",
              "<style scoped>\n",
              "    .dataframe tbody tr th:only-of-type {\n",
              "        vertical-align: middle;\n",
              "    }\n",
              "\n",
              "    .dataframe tbody tr th {\n",
              "        vertical-align: top;\n",
              "    }\n",
              "\n",
              "    .dataframe thead th {\n",
              "        text-align: right;\n",
              "    }\n",
              "</style>\n",
              "<table border=\"1\" class=\"dataframe\">\n",
              "  <thead>\n",
              "    <tr style=\"text-align: right;\">\n",
              "      <th></th>\n",
              "      <th>startingPoint</th>\n",
              "      <th>#solSearched</th>\n",
              "      <th>sol</th>\n",
              "      <th>f(sol)</th>\n",
              "    </tr>\n",
              "  </thead>\n",
              "  <tbody>\n",
              "    <tr>\n",
              "      <th>0</th>\n",
              "      <td>[-200.0, 300.0]</td>\n",
              "      <td>3151</td>\n",
              "      <td>(-242.9635492731161, 274.36665574282694)</td>\n",
              "      <td>-559.786803</td>\n",
              "    </tr>\n",
              "    <tr>\n",
              "      <th>1</th>\n",
              "      <td>[0.0, 0.23]</td>\n",
              "      <td>1111</td>\n",
              "      <td>(8.49006885389648, 15.58728032769306)</td>\n",
              "      <td>-66.843147</td>\n",
              "    </tr>\n",
              "    <tr>\n",
              "      <th>2</th>\n",
              "      <td>[404.0, 504.0]</td>\n",
              "      <td>3901</td>\n",
              "      <td>(347.25077306011787, 499.3917713548673)</td>\n",
              "      <td>-888.948158</td>\n",
              "    </tr>\n",
              "    <tr>\n",
              "      <th>3</th>\n",
              "      <td>[412.0, -99.9]</td>\n",
              "      <td>3931</td>\n",
              "      <td>(361.65461985082345, -106.95614824841991)</td>\n",
              "      <td>-419.311904</td>\n",
              "    </tr>\n",
              "  </tbody>\n",
              "</table>\n",
              "</div>\n",
              "      <button class=\"colab-df-convert\" onclick=\"convertToInteractive('df-60dcc117-adf3-4a5e-894b-9dd19d9bee1b')\"\n",
              "              title=\"Convert this dataframe to an interactive table.\"\n",
              "              style=\"display:none;\">\n",
              "        \n",
              "  <svg xmlns=\"http://www.w3.org/2000/svg\" height=\"24px\"viewBox=\"0 0 24 24\"\n",
              "       width=\"24px\">\n",
              "    <path d=\"M0 0h24v24H0V0z\" fill=\"none\"/>\n",
              "    <path d=\"M18.56 5.44l.94 2.06.94-2.06 2.06-.94-2.06-.94-.94-2.06-.94 2.06-2.06.94zm-11 1L8.5 8.5l.94-2.06 2.06-.94-2.06-.94L8.5 2.5l-.94 2.06-2.06.94zm10 10l.94 2.06.94-2.06 2.06-.94-2.06-.94-.94-2.06-.94 2.06-2.06.94z\"/><path d=\"M17.41 7.96l-1.37-1.37c-.4-.4-.92-.59-1.43-.59-.52 0-1.04.2-1.43.59L10.3 9.45l-7.72 7.72c-.78.78-.78 2.05 0 2.83L4 21.41c.39.39.9.59 1.41.59.51 0 1.02-.2 1.41-.59l7.78-7.78 2.81-2.81c.8-.78.8-2.07 0-2.86zM5.41 20L4 18.59l7.72-7.72 1.47 1.35L5.41 20z\"/>\n",
              "  </svg>\n",
              "      </button>\n",
              "      \n",
              "  <style>\n",
              "    .colab-df-container {\n",
              "      display:flex;\n",
              "      flex-wrap:wrap;\n",
              "      gap: 12px;\n",
              "    }\n",
              "\n",
              "    .colab-df-convert {\n",
              "      background-color: #E8F0FE;\n",
              "      border: none;\n",
              "      border-radius: 50%;\n",
              "      cursor: pointer;\n",
              "      display: none;\n",
              "      fill: #1967D2;\n",
              "      height: 32px;\n",
              "      padding: 0 0 0 0;\n",
              "      width: 32px;\n",
              "    }\n",
              "\n",
              "    .colab-df-convert:hover {\n",
              "      background-color: #E2EBFA;\n",
              "      box-shadow: 0px 1px 2px rgba(60, 64, 67, 0.3), 0px 1px 3px 1px rgba(60, 64, 67, 0.15);\n",
              "      fill: #174EA6;\n",
              "    }\n",
              "\n",
              "    [theme=dark] .colab-df-convert {\n",
              "      background-color: #3B4455;\n",
              "      fill: #D2E3FC;\n",
              "    }\n",
              "\n",
              "    [theme=dark] .colab-df-convert:hover {\n",
              "      background-color: #434B5C;\n",
              "      box-shadow: 0px 1px 3px 1px rgba(0, 0, 0, 0.15);\n",
              "      filter: drop-shadow(0px 1px 2px rgba(0, 0, 0, 0.3));\n",
              "      fill: #FFFFFF;\n",
              "    }\n",
              "  </style>\n",
              "\n",
              "      <script>\n",
              "        const buttonEl =\n",
              "          document.querySelector('#df-60dcc117-adf3-4a5e-894b-9dd19d9bee1b button.colab-df-convert');\n",
              "        buttonEl.style.display =\n",
              "          google.colab.kernel.accessAllowed ? 'block' : 'none';\n",
              "\n",
              "        async function convertToInteractive(key) {\n",
              "          const element = document.querySelector('#df-60dcc117-adf3-4a5e-894b-9dd19d9bee1b');\n",
              "          const dataTable =\n",
              "            await google.colab.kernel.invokeFunction('convertToInteractive',\n",
              "                                                     [key], {});\n",
              "          if (!dataTable) return;\n",
              "\n",
              "          const docLinkHtml = 'Like what you see? Visit the ' +\n",
              "            '<a target=\"_blank\" href=https://colab.research.google.com/notebooks/data_table.ipynb>data table notebook</a>'\n",
              "            + ' to learn more about interactive tables.';\n",
              "          element.innerHTML = '';\n",
              "          dataTable['output_type'] = 'display_data';\n",
              "          await google.colab.output.renderOutput(dataTable, element);\n",
              "          const docLink = document.createElement('div');\n",
              "          docLink.innerHTML = docLinkHtml;\n",
              "          element.appendChild(docLink);\n",
              "        }\n",
              "      </script>\n",
              "    </div>\n",
              "  </div>\n",
              "  "
            ],
            "text/plain": [
              "     startingPoint  ...      f(sol)\n",
              "0  [-200.0, 300.0]  ... -559.786803\n",
              "1      [0.0, 0.23]  ...  -66.843147\n",
              "2   [404.0, 504.0]  ... -888.948158\n",
              "3   [412.0, -99.9]  ... -419.311904\n",
              "\n",
              "[4 rows x 4 columns]"
            ]
          },
          "metadata": {},
          "execution_count": 7
        },
        {
          "output_type": "stream",
          "name": "stdout",
          "text": [
            "time: 209 ms (started: 2022-02-15 23:28:31 +00:00)\n"
          ]
        }
      ]
    },
    {
      "cell_type": "code",
      "source": [
        "df = pd.DataFrame(columns = [\"Run1\",\"Run2\"])\n",
        "df"
      ],
      "metadata": {
        "colab": {
          "base_uri": "https://localhost:8080/",
          "height": 67
        },
        "id": "ZyVNoWmXulkc",
        "outputId": "507f8271-d3e9-47fb-eee5-3cd7ce4fc6fe"
      },
      "execution_count": null,
      "outputs": [
        {
          "output_type": "execute_result",
          "data": {
            "text/html": [
              "\n",
              "  <div id=\"df-8ad7df83-434c-4336-8bb5-ba5ae7c6b92c\">\n",
              "    <div class=\"colab-df-container\">\n",
              "      <div>\n",
              "<style scoped>\n",
              "    .dataframe tbody tr th:only-of-type {\n",
              "        vertical-align: middle;\n",
              "    }\n",
              "\n",
              "    .dataframe tbody tr th {\n",
              "        vertical-align: top;\n",
              "    }\n",
              "\n",
              "    .dataframe thead th {\n",
              "        text-align: right;\n",
              "    }\n",
              "</style>\n",
              "<table border=\"1\" class=\"dataframe\">\n",
              "  <thead>\n",
              "    <tr style=\"text-align: right;\">\n",
              "      <th></th>\n",
              "      <th>Run1</th>\n",
              "      <th>Run2</th>\n",
              "    </tr>\n",
              "  </thead>\n",
              "  <tbody>\n",
              "  </tbody>\n",
              "</table>\n",
              "</div>\n",
              "      <button class=\"colab-df-convert\" onclick=\"convertToInteractive('df-8ad7df83-434c-4336-8bb5-ba5ae7c6b92c')\"\n",
              "              title=\"Convert this dataframe to an interactive table.\"\n",
              "              style=\"display:none;\">\n",
              "        \n",
              "  <svg xmlns=\"http://www.w3.org/2000/svg\" height=\"24px\"viewBox=\"0 0 24 24\"\n",
              "       width=\"24px\">\n",
              "    <path d=\"M0 0h24v24H0V0z\" fill=\"none\"/>\n",
              "    <path d=\"M18.56 5.44l.94 2.06.94-2.06 2.06-.94-2.06-.94-.94-2.06-.94 2.06-2.06.94zm-11 1L8.5 8.5l.94-2.06 2.06-.94-2.06-.94L8.5 2.5l-.94 2.06-2.06.94zm10 10l.94 2.06.94-2.06 2.06-.94-2.06-.94-.94-2.06-.94 2.06-2.06.94z\"/><path d=\"M17.41 7.96l-1.37-1.37c-.4-.4-.92-.59-1.43-.59-.52 0-1.04.2-1.43.59L10.3 9.45l-7.72 7.72c-.78.78-.78 2.05 0 2.83L4 21.41c.39.39.9.59 1.41.59.51 0 1.02-.2 1.41-.59l7.78-7.78 2.81-2.81c.8-.78.8-2.07 0-2.86zM5.41 20L4 18.59l7.72-7.72 1.47 1.35L5.41 20z\"/>\n",
              "  </svg>\n",
              "      </button>\n",
              "      \n",
              "  <style>\n",
              "    .colab-df-container {\n",
              "      display:flex;\n",
              "      flex-wrap:wrap;\n",
              "      gap: 12px;\n",
              "    }\n",
              "\n",
              "    .colab-df-convert {\n",
              "      background-color: #E8F0FE;\n",
              "      border: none;\n",
              "      border-radius: 50%;\n",
              "      cursor: pointer;\n",
              "      display: none;\n",
              "      fill: #1967D2;\n",
              "      height: 32px;\n",
              "      padding: 0 0 0 0;\n",
              "      width: 32px;\n",
              "    }\n",
              "\n",
              "    .colab-df-convert:hover {\n",
              "      background-color: #E2EBFA;\n",
              "      box-shadow: 0px 1px 2px rgba(60, 64, 67, 0.3), 0px 1px 3px 1px rgba(60, 64, 67, 0.15);\n",
              "      fill: #174EA6;\n",
              "    }\n",
              "\n",
              "    [theme=dark] .colab-df-convert {\n",
              "      background-color: #3B4455;\n",
              "      fill: #D2E3FC;\n",
              "    }\n",
              "\n",
              "    [theme=dark] .colab-df-convert:hover {\n",
              "      background-color: #434B5C;\n",
              "      box-shadow: 0px 1px 3px 1px rgba(0, 0, 0, 0.15);\n",
              "      filter: drop-shadow(0px 1px 2px rgba(0, 0, 0, 0.3));\n",
              "      fill: #FFFFFF;\n",
              "    }\n",
              "  </style>\n",
              "\n",
              "      <script>\n",
              "        const buttonEl =\n",
              "          document.querySelector('#df-8ad7df83-434c-4336-8bb5-ba5ae7c6b92c button.colab-df-convert');\n",
              "        buttonEl.style.display =\n",
              "          google.colab.kernel.accessAllowed ? 'block' : 'none';\n",
              "\n",
              "        async function convertToInteractive(key) {\n",
              "          const element = document.querySelector('#df-8ad7df83-434c-4336-8bb5-ba5ae7c6b92c');\n",
              "          const dataTable =\n",
              "            await google.colab.kernel.invokeFunction('convertToInteractive',\n",
              "                                                     [key], {});\n",
              "          if (!dataTable) return;\n",
              "\n",
              "          const docLinkHtml = 'Like what you see? Visit the ' +\n",
              "            '<a target=\"_blank\" href=https://colab.research.google.com/notebooks/data_table.ipynb>data table notebook</a>'\n",
              "            + ' to learn more about interactive tables.';\n",
              "          element.innerHTML = '';\n",
              "          dataTable['output_type'] = 'display_data';\n",
              "          await google.colab.output.renderOutput(dataTable, element);\n",
              "          const docLink = document.createElement('div');\n",
              "          docLink.innerHTML = docLinkHtml;\n",
              "          element.appendChild(docLink);\n",
              "        }\n",
              "      </script>\n",
              "    </div>\n",
              "  </div>\n",
              "  "
            ],
            "text/plain": [
              "Empty DataFrame\n",
              "Columns: [Run1, Run2]\n",
              "Index: []"
            ]
          },
          "metadata": {},
          "execution_count": 27
        },
        {
          "output_type": "stream",
          "name": "stdout",
          "text": [
            "time: 16.6 ms (started: 2022-02-15 23:32:06 +00:00)\n"
          ]
        }
      ]
    },
    {
      "cell_type": "markdown",
      "source": [
        "### Table 2: z = 0.5, p = 250"
      ],
      "metadata": {
        "id": "sXbHilqL1Y6o"
      }
    },
    {
      "cell_type": "code",
      "source": [
        "run1 = pd.DataFrame(columns=[\"startingPoint\",\"#solSearched\",\"sol\",\"f(sol)\"])\n",
        "for sp in startingPoints:\n",
        "  run1.loc[len(run1.index)] = [sp,*list(RHC(sp,250,0.5,seeds[0]))]\n",
        "run1"
      ],
      "metadata": {
        "colab": {
          "base_uri": "https://localhost:8080/",
          "height": 192
        },
        "id": "NSGJzZkO1rws",
        "outputId": "b68beab0-f9d3-40b9-aef5-edf239917386"
      },
      "execution_count": null,
      "outputs": [
        {
          "output_type": "execute_result",
          "data": {
            "text/html": [
              "\n",
              "  <div id=\"df-97b9c051-ba40-4e3e-b2e5-194b80f2e7e1\">\n",
              "    <div class=\"colab-df-container\">\n",
              "      <div>\n",
              "<style scoped>\n",
              "    .dataframe tbody tr th:only-of-type {\n",
              "        vertical-align: middle;\n",
              "    }\n",
              "\n",
              "    .dataframe tbody tr th {\n",
              "        vertical-align: top;\n",
              "    }\n",
              "\n",
              "    .dataframe thead th {\n",
              "        text-align: right;\n",
              "    }\n",
              "</style>\n",
              "<table border=\"1\" class=\"dataframe\">\n",
              "  <thead>\n",
              "    <tr style=\"text-align: right;\">\n",
              "      <th></th>\n",
              "      <th>startingPoint</th>\n",
              "      <th>#solSearched</th>\n",
              "      <th>sol</th>\n",
              "      <th>f(sol)</th>\n",
              "    </tr>\n",
              "  </thead>\n",
              "  <tbody>\n",
              "    <tr>\n",
              "      <th>0</th>\n",
              "      <td>[-200.0, 300.0]</td>\n",
              "      <td>22751</td>\n",
              "      <td>(-242.9618565745455, 274.3680869924391)</td>\n",
              "      <td>-559.786806</td>\n",
              "    </tr>\n",
              "    <tr>\n",
              "      <th>1</th>\n",
              "      <td>[0.0, 0.23]</td>\n",
              "      <td>8251</td>\n",
              "      <td>(8.427082079848402, 15.661571984646836)</td>\n",
              "      <td>-66.843647</td>\n",
              "    </tr>\n",
              "    <tr>\n",
              "      <th>2</th>\n",
              "      <td>[404.0, 504.0]</td>\n",
              "      <td>30251</td>\n",
              "      <td>(347.319556750075, 499.39448546659435)</td>\n",
              "      <td>-888.949028</td>\n",
              "    </tr>\n",
              "    <tr>\n",
              "      <th>3</th>\n",
              "      <td>[412.0, -99.9]</td>\n",
              "      <td>28001</td>\n",
              "      <td>(361.65304368534623, -106.95035551491624)</td>\n",
              "      <td>-419.311863</td>\n",
              "    </tr>\n",
              "  </tbody>\n",
              "</table>\n",
              "</div>\n",
              "      <button class=\"colab-df-convert\" onclick=\"convertToInteractive('df-97b9c051-ba40-4e3e-b2e5-194b80f2e7e1')\"\n",
              "              title=\"Convert this dataframe to an interactive table.\"\n",
              "              style=\"display:none;\">\n",
              "        \n",
              "  <svg xmlns=\"http://www.w3.org/2000/svg\" height=\"24px\"viewBox=\"0 0 24 24\"\n",
              "       width=\"24px\">\n",
              "    <path d=\"M0 0h24v24H0V0z\" fill=\"none\"/>\n",
              "    <path d=\"M18.56 5.44l.94 2.06.94-2.06 2.06-.94-2.06-.94-.94-2.06-.94 2.06-2.06.94zm-11 1L8.5 8.5l.94-2.06 2.06-.94-2.06-.94L8.5 2.5l-.94 2.06-2.06.94zm10 10l.94 2.06.94-2.06 2.06-.94-2.06-.94-.94-2.06-.94 2.06-2.06.94z\"/><path d=\"M17.41 7.96l-1.37-1.37c-.4-.4-.92-.59-1.43-.59-.52 0-1.04.2-1.43.59L10.3 9.45l-7.72 7.72c-.78.78-.78 2.05 0 2.83L4 21.41c.39.39.9.59 1.41.59.51 0 1.02-.2 1.41-.59l7.78-7.78 2.81-2.81c.8-.78.8-2.07 0-2.86zM5.41 20L4 18.59l7.72-7.72 1.47 1.35L5.41 20z\"/>\n",
              "  </svg>\n",
              "      </button>\n",
              "      \n",
              "  <style>\n",
              "    .colab-df-container {\n",
              "      display:flex;\n",
              "      flex-wrap:wrap;\n",
              "      gap: 12px;\n",
              "    }\n",
              "\n",
              "    .colab-df-convert {\n",
              "      background-color: #E8F0FE;\n",
              "      border: none;\n",
              "      border-radius: 50%;\n",
              "      cursor: pointer;\n",
              "      display: none;\n",
              "      fill: #1967D2;\n",
              "      height: 32px;\n",
              "      padding: 0 0 0 0;\n",
              "      width: 32px;\n",
              "    }\n",
              "\n",
              "    .colab-df-convert:hover {\n",
              "      background-color: #E2EBFA;\n",
              "      box-shadow: 0px 1px 2px rgba(60, 64, 67, 0.3), 0px 1px 3px 1px rgba(60, 64, 67, 0.15);\n",
              "      fill: #174EA6;\n",
              "    }\n",
              "\n",
              "    [theme=dark] .colab-df-convert {\n",
              "      background-color: #3B4455;\n",
              "      fill: #D2E3FC;\n",
              "    }\n",
              "\n",
              "    [theme=dark] .colab-df-convert:hover {\n",
              "      background-color: #434B5C;\n",
              "      box-shadow: 0px 1px 3px 1px rgba(0, 0, 0, 0.15);\n",
              "      filter: drop-shadow(0px 1px 2px rgba(0, 0, 0, 0.3));\n",
              "      fill: #FFFFFF;\n",
              "    }\n",
              "  </style>\n",
              "\n",
              "      <script>\n",
              "        const buttonEl =\n",
              "          document.querySelector('#df-97b9c051-ba40-4e3e-b2e5-194b80f2e7e1 button.colab-df-convert');\n",
              "        buttonEl.style.display =\n",
              "          google.colab.kernel.accessAllowed ? 'block' : 'none';\n",
              "\n",
              "        async function convertToInteractive(key) {\n",
              "          const element = document.querySelector('#df-97b9c051-ba40-4e3e-b2e5-194b80f2e7e1');\n",
              "          const dataTable =\n",
              "            await google.colab.kernel.invokeFunction('convertToInteractive',\n",
              "                                                     [key], {});\n",
              "          if (!dataTable) return;\n",
              "\n",
              "          const docLinkHtml = 'Like what you see? Visit the ' +\n",
              "            '<a target=\"_blank\" href=https://colab.research.google.com/notebooks/data_table.ipynb>data table notebook</a>'\n",
              "            + ' to learn more about interactive tables.';\n",
              "          element.innerHTML = '';\n",
              "          dataTable['output_type'] = 'display_data';\n",
              "          await google.colab.output.renderOutput(dataTable, element);\n",
              "          const docLink = document.createElement('div');\n",
              "          docLink.innerHTML = docLinkHtml;\n",
              "          element.appendChild(docLink);\n",
              "        }\n",
              "      </script>\n",
              "    </div>\n",
              "  </div>\n",
              "  "
            ],
            "text/plain": [
              "     startingPoint  ...      f(sol)\n",
              "0  [-200.0, 300.0]  ... -559.786806\n",
              "1      [0.0, 0.23]  ...  -66.843647\n",
              "2   [404.0, 504.0]  ... -888.949028\n",
              "3   [412.0, -99.9]  ... -419.311863\n",
              "\n",
              "[4 rows x 4 columns]"
            ]
          },
          "metadata": {},
          "execution_count": 8
        },
        {
          "output_type": "stream",
          "name": "stdout",
          "text": [
            "time: 792 ms (started: 2022-02-15 23:28:31 +00:00)\n"
          ]
        }
      ]
    },
    {
      "cell_type": "code",
      "source": [
        "run2 = pd.DataFrame(columns=[\"startingPoint\",\"#solSearched\",\"sol\",\"f(sol)\"])\n",
        "for sp in startingPoints:\n",
        "  run2.loc[len(run2.index)] = [sp,*list(RHC(sp,250,0.5,seeds[1]))]\n",
        "run2"
      ],
      "metadata": {
        "colab": {
          "base_uri": "https://localhost:8080/",
          "height": 192
        },
        "id": "ZTmdiB4cXjZp",
        "outputId": "60a937c2-04bf-4dae-8007-e67a7176088e"
      },
      "execution_count": null,
      "outputs": [
        {
          "output_type": "execute_result",
          "data": {
            "text/html": [
              "\n",
              "  <div id=\"df-67d8a716-d123-440b-b67a-b77545230086\">\n",
              "    <div class=\"colab-df-container\">\n",
              "      <div>\n",
              "<style scoped>\n",
              "    .dataframe tbody tr th:only-of-type {\n",
              "        vertical-align: middle;\n",
              "    }\n",
              "\n",
              "    .dataframe tbody tr th {\n",
              "        vertical-align: top;\n",
              "    }\n",
              "\n",
              "    .dataframe thead th {\n",
              "        text-align: right;\n",
              "    }\n",
              "</style>\n",
              "<table border=\"1\" class=\"dataframe\">\n",
              "  <thead>\n",
              "    <tr style=\"text-align: right;\">\n",
              "      <th></th>\n",
              "      <th>startingPoint</th>\n",
              "      <th>#solSearched</th>\n",
              "      <th>sol</th>\n",
              "      <th>f(sol)</th>\n",
              "    </tr>\n",
              "  </thead>\n",
              "  <tbody>\n",
              "    <tr>\n",
              "      <th>0</th>\n",
              "      <td>[-200.0, 300.0]</td>\n",
              "      <td>23001</td>\n",
              "      <td>(-242.96899230618962, 274.39525127339084)</td>\n",
              "      <td>-559.786775</td>\n",
              "    </tr>\n",
              "    <tr>\n",
              "      <th>1</th>\n",
              "      <td>[0.0, 0.23]</td>\n",
              "      <td>8501</td>\n",
              "      <td>(8.426507742632268, 15.646125147160918)</td>\n",
              "      <td>-66.843636</td>\n",
              "    </tr>\n",
              "    <tr>\n",
              "      <th>2</th>\n",
              "      <td>[404.0, 504.0]</td>\n",
              "      <td>29751</td>\n",
              "      <td>(347.33592725257216, 499.4152830201381)</td>\n",
              "      <td>-888.949105</td>\n",
              "    </tr>\n",
              "    <tr>\n",
              "      <th>3</th>\n",
              "      <td>[412.0, -99.9]</td>\n",
              "      <td>28001</td>\n",
              "      <td>(361.6892569202703, -106.96825354508435)</td>\n",
              "      <td>-419.311870</td>\n",
              "    </tr>\n",
              "  </tbody>\n",
              "</table>\n",
              "</div>\n",
              "      <button class=\"colab-df-convert\" onclick=\"convertToInteractive('df-67d8a716-d123-440b-b67a-b77545230086')\"\n",
              "              title=\"Convert this dataframe to an interactive table.\"\n",
              "              style=\"display:none;\">\n",
              "        \n",
              "  <svg xmlns=\"http://www.w3.org/2000/svg\" height=\"24px\"viewBox=\"0 0 24 24\"\n",
              "       width=\"24px\">\n",
              "    <path d=\"M0 0h24v24H0V0z\" fill=\"none\"/>\n",
              "    <path d=\"M18.56 5.44l.94 2.06.94-2.06 2.06-.94-2.06-.94-.94-2.06-.94 2.06-2.06.94zm-11 1L8.5 8.5l.94-2.06 2.06-.94-2.06-.94L8.5 2.5l-.94 2.06-2.06.94zm10 10l.94 2.06.94-2.06 2.06-.94-2.06-.94-.94-2.06-.94 2.06-2.06.94z\"/><path d=\"M17.41 7.96l-1.37-1.37c-.4-.4-.92-.59-1.43-.59-.52 0-1.04.2-1.43.59L10.3 9.45l-7.72 7.72c-.78.78-.78 2.05 0 2.83L4 21.41c.39.39.9.59 1.41.59.51 0 1.02-.2 1.41-.59l7.78-7.78 2.81-2.81c.8-.78.8-2.07 0-2.86zM5.41 20L4 18.59l7.72-7.72 1.47 1.35L5.41 20z\"/>\n",
              "  </svg>\n",
              "      </button>\n",
              "      \n",
              "  <style>\n",
              "    .colab-df-container {\n",
              "      display:flex;\n",
              "      flex-wrap:wrap;\n",
              "      gap: 12px;\n",
              "    }\n",
              "\n",
              "    .colab-df-convert {\n",
              "      background-color: #E8F0FE;\n",
              "      border: none;\n",
              "      border-radius: 50%;\n",
              "      cursor: pointer;\n",
              "      display: none;\n",
              "      fill: #1967D2;\n",
              "      height: 32px;\n",
              "      padding: 0 0 0 0;\n",
              "      width: 32px;\n",
              "    }\n",
              "\n",
              "    .colab-df-convert:hover {\n",
              "      background-color: #E2EBFA;\n",
              "      box-shadow: 0px 1px 2px rgba(60, 64, 67, 0.3), 0px 1px 3px 1px rgba(60, 64, 67, 0.15);\n",
              "      fill: #174EA6;\n",
              "    }\n",
              "\n",
              "    [theme=dark] .colab-df-convert {\n",
              "      background-color: #3B4455;\n",
              "      fill: #D2E3FC;\n",
              "    }\n",
              "\n",
              "    [theme=dark] .colab-df-convert:hover {\n",
              "      background-color: #434B5C;\n",
              "      box-shadow: 0px 1px 3px 1px rgba(0, 0, 0, 0.15);\n",
              "      filter: drop-shadow(0px 1px 2px rgba(0, 0, 0, 0.3));\n",
              "      fill: #FFFFFF;\n",
              "    }\n",
              "  </style>\n",
              "\n",
              "      <script>\n",
              "        const buttonEl =\n",
              "          document.querySelector('#df-67d8a716-d123-440b-b67a-b77545230086 button.colab-df-convert');\n",
              "        buttonEl.style.display =\n",
              "          google.colab.kernel.accessAllowed ? 'block' : 'none';\n",
              "\n",
              "        async function convertToInteractive(key) {\n",
              "          const element = document.querySelector('#df-67d8a716-d123-440b-b67a-b77545230086');\n",
              "          const dataTable =\n",
              "            await google.colab.kernel.invokeFunction('convertToInteractive',\n",
              "                                                     [key], {});\n",
              "          if (!dataTable) return;\n",
              "\n",
              "          const docLinkHtml = 'Like what you see? Visit the ' +\n",
              "            '<a target=\"_blank\" href=https://colab.research.google.com/notebooks/data_table.ipynb>data table notebook</a>'\n",
              "            + ' to learn more about interactive tables.';\n",
              "          element.innerHTML = '';\n",
              "          dataTable['output_type'] = 'display_data';\n",
              "          await google.colab.output.renderOutput(dataTable, element);\n",
              "          const docLink = document.createElement('div');\n",
              "          docLink.innerHTML = docLinkHtml;\n",
              "          element.appendChild(docLink);\n",
              "        }\n",
              "      </script>\n",
              "    </div>\n",
              "  </div>\n",
              "  "
            ],
            "text/plain": [
              "     startingPoint  ...      f(sol)\n",
              "0  [-200.0, 300.0]  ... -559.786775\n",
              "1      [0.0, 0.23]  ...  -66.843636\n",
              "2   [404.0, 504.0]  ... -888.949105\n",
              "3   [412.0, -99.9]  ... -419.311870\n",
              "\n",
              "[4 rows x 4 columns]"
            ]
          },
          "metadata": {},
          "execution_count": 9
        },
        {
          "output_type": "stream",
          "name": "stdout",
          "text": [
            "time: 662 ms (started: 2022-02-15 23:28:32 +00:00)\n"
          ]
        }
      ]
    },
    {
      "cell_type": "markdown",
      "source": [
        "### Table 3: z = 3, p = 30"
      ],
      "metadata": {
        "id": "Ds8pAKff1r8A"
      }
    },
    {
      "cell_type": "code",
      "source": [
        "run1 = pd.DataFrame(columns=[\"startingPoint\",\"#solSearched\",\"sol\",\"f(sol)\"])\n",
        "for sp in startingPoints:\n",
        "  run1.loc[len(run1.index)] = [sp,*list(RHC(sp,30,3,seeds[0]))]\n",
        "run1"
      ],
      "metadata": {
        "colab": {
          "base_uri": "https://localhost:8080/",
          "height": 192
        },
        "id": "g7ht20Gw1u77",
        "outputId": "854f9f1a-02f8-4a15-e09a-e8740b0b0564"
      },
      "execution_count": null,
      "outputs": [
        {
          "output_type": "execute_result",
          "data": {
            "text/html": [
              "\n",
              "  <div id=\"df-d9f04e68-4567-47a7-ad7d-e300e08463ca\">\n",
              "    <div class=\"colab-df-container\">\n",
              "      <div>\n",
              "<style scoped>\n",
              "    .dataframe tbody tr th:only-of-type {\n",
              "        vertical-align: middle;\n",
              "    }\n",
              "\n",
              "    .dataframe tbody tr th {\n",
              "        vertical-align: top;\n",
              "    }\n",
              "\n",
              "    .dataframe thead th {\n",
              "        text-align: right;\n",
              "    }\n",
              "</style>\n",
              "<table border=\"1\" class=\"dataframe\">\n",
              "  <thead>\n",
              "    <tr style=\"text-align: right;\">\n",
              "      <th></th>\n",
              "      <th>startingPoint</th>\n",
              "      <th>#solSearched</th>\n",
              "      <th>sol</th>\n",
              "      <th>f(sol)</th>\n",
              "    </tr>\n",
              "  </thead>\n",
              "  <tbody>\n",
              "    <tr>\n",
              "      <th>0</th>\n",
              "      <td>[-200.0, 300.0]</td>\n",
              "      <td>571</td>\n",
              "      <td>(-243.25082941852483, 274.556615126738)</td>\n",
              "      <td>-559.775527</td>\n",
              "    </tr>\n",
              "    <tr>\n",
              "      <th>1</th>\n",
              "      <td>[0.0, 0.23]</td>\n",
              "      <td>241</td>\n",
              "      <td>(8.833039038237569, 15.977849850613351)</td>\n",
              "      <td>-66.811637</td>\n",
              "    </tr>\n",
              "    <tr>\n",
              "      <th>2</th>\n",
              "      <td>[404.0, 504.0]</td>\n",
              "      <td>691</td>\n",
              "      <td>(347.33546383861824, 499.1206459413417)</td>\n",
              "      <td>-888.920919</td>\n",
              "    </tr>\n",
              "    <tr>\n",
              "      <th>3</th>\n",
              "      <td>[412.0, -99.9]</td>\n",
              "      <td>691</td>\n",
              "      <td>(361.53709832280276, -107.27807228714481)</td>\n",
              "      <td>-419.299514</td>\n",
              "    </tr>\n",
              "  </tbody>\n",
              "</table>\n",
              "</div>\n",
              "      <button class=\"colab-df-convert\" onclick=\"convertToInteractive('df-d9f04e68-4567-47a7-ad7d-e300e08463ca')\"\n",
              "              title=\"Convert this dataframe to an interactive table.\"\n",
              "              style=\"display:none;\">\n",
              "        \n",
              "  <svg xmlns=\"http://www.w3.org/2000/svg\" height=\"24px\"viewBox=\"0 0 24 24\"\n",
              "       width=\"24px\">\n",
              "    <path d=\"M0 0h24v24H0V0z\" fill=\"none\"/>\n",
              "    <path d=\"M18.56 5.44l.94 2.06.94-2.06 2.06-.94-2.06-.94-.94-2.06-.94 2.06-2.06.94zm-11 1L8.5 8.5l.94-2.06 2.06-.94-2.06-.94L8.5 2.5l-.94 2.06-2.06.94zm10 10l.94 2.06.94-2.06 2.06-.94-2.06-.94-.94-2.06-.94 2.06-2.06.94z\"/><path d=\"M17.41 7.96l-1.37-1.37c-.4-.4-.92-.59-1.43-.59-.52 0-1.04.2-1.43.59L10.3 9.45l-7.72 7.72c-.78.78-.78 2.05 0 2.83L4 21.41c.39.39.9.59 1.41.59.51 0 1.02-.2 1.41-.59l7.78-7.78 2.81-2.81c.8-.78.8-2.07 0-2.86zM5.41 20L4 18.59l7.72-7.72 1.47 1.35L5.41 20z\"/>\n",
              "  </svg>\n",
              "      </button>\n",
              "      \n",
              "  <style>\n",
              "    .colab-df-container {\n",
              "      display:flex;\n",
              "      flex-wrap:wrap;\n",
              "      gap: 12px;\n",
              "    }\n",
              "\n",
              "    .colab-df-convert {\n",
              "      background-color: #E8F0FE;\n",
              "      border: none;\n",
              "      border-radius: 50%;\n",
              "      cursor: pointer;\n",
              "      display: none;\n",
              "      fill: #1967D2;\n",
              "      height: 32px;\n",
              "      padding: 0 0 0 0;\n",
              "      width: 32px;\n",
              "    }\n",
              "\n",
              "    .colab-df-convert:hover {\n",
              "      background-color: #E2EBFA;\n",
              "      box-shadow: 0px 1px 2px rgba(60, 64, 67, 0.3), 0px 1px 3px 1px rgba(60, 64, 67, 0.15);\n",
              "      fill: #174EA6;\n",
              "    }\n",
              "\n",
              "    [theme=dark] .colab-df-convert {\n",
              "      background-color: #3B4455;\n",
              "      fill: #D2E3FC;\n",
              "    }\n",
              "\n",
              "    [theme=dark] .colab-df-convert:hover {\n",
              "      background-color: #434B5C;\n",
              "      box-shadow: 0px 1px 3px 1px rgba(0, 0, 0, 0.15);\n",
              "      filter: drop-shadow(0px 1px 2px rgba(0, 0, 0, 0.3));\n",
              "      fill: #FFFFFF;\n",
              "    }\n",
              "  </style>\n",
              "\n",
              "      <script>\n",
              "        const buttonEl =\n",
              "          document.querySelector('#df-d9f04e68-4567-47a7-ad7d-e300e08463ca button.colab-df-convert');\n",
              "        buttonEl.style.display =\n",
              "          google.colab.kernel.accessAllowed ? 'block' : 'none';\n",
              "\n",
              "        async function convertToInteractive(key) {\n",
              "          const element = document.querySelector('#df-d9f04e68-4567-47a7-ad7d-e300e08463ca');\n",
              "          const dataTable =\n",
              "            await google.colab.kernel.invokeFunction('convertToInteractive',\n",
              "                                                     [key], {});\n",
              "          if (!dataTable) return;\n",
              "\n",
              "          const docLinkHtml = 'Like what you see? Visit the ' +\n",
              "            '<a target=\"_blank\" href=https://colab.research.google.com/notebooks/data_table.ipynb>data table notebook</a>'\n",
              "            + ' to learn more about interactive tables.';\n",
              "          element.innerHTML = '';\n",
              "          dataTable['output_type'] = 'display_data';\n",
              "          await google.colab.output.renderOutput(dataTable, element);\n",
              "          const docLink = document.createElement('div');\n",
              "          docLink.innerHTML = docLinkHtml;\n",
              "          element.appendChild(docLink);\n",
              "        }\n",
              "      </script>\n",
              "    </div>\n",
              "  </div>\n",
              "  "
            ],
            "text/plain": [
              "     startingPoint  ...      f(sol)\n",
              "0  [-200.0, 300.0]  ... -559.775527\n",
              "1      [0.0, 0.23]  ...  -66.811637\n",
              "2   [404.0, 504.0]  ... -888.920919\n",
              "3   [412.0, -99.9]  ... -419.299514\n",
              "\n",
              "[4 rows x 4 columns]"
            ]
          },
          "metadata": {},
          "execution_count": 10
        },
        {
          "output_type": "stream",
          "name": "stdout",
          "text": [
            "time: 87.5 ms (started: 2022-02-15 23:28:33 +00:00)\n"
          ]
        }
      ]
    },
    {
      "cell_type": "code",
      "source": [
        "run2 = pd.DataFrame(columns=[\"startingPoint\",\"#solSearched\",\"sol\",\"f(sol)\"])\n",
        "for sp in startingPoints:\n",
        "  run2.loc[len(run2.index)] = [sp,*list(RHC(sp,30,3,seeds[1]))]\n",
        "run2"
      ],
      "metadata": {
        "colab": {
          "base_uri": "https://localhost:8080/",
          "height": 192
        },
        "id": "rmhvb2o6XmNP",
        "outputId": "5143124c-0884-40b3-fdfb-ecbe9fcee6bb"
      },
      "execution_count": null,
      "outputs": [
        {
          "output_type": "execute_result",
          "data": {
            "text/html": [
              "\n",
              "  <div id=\"df-5c183d45-b44d-4b9d-8059-1a98acd1af19\">\n",
              "    <div class=\"colab-df-container\">\n",
              "      <div>\n",
              "<style scoped>\n",
              "    .dataframe tbody tr th:only-of-type {\n",
              "        vertical-align: middle;\n",
              "    }\n",
              "\n",
              "    .dataframe tbody tr th {\n",
              "        vertical-align: top;\n",
              "    }\n",
              "\n",
              "    .dataframe thead th {\n",
              "        text-align: right;\n",
              "    }\n",
              "</style>\n",
              "<table border=\"1\" class=\"dataframe\">\n",
              "  <thead>\n",
              "    <tr style=\"text-align: right;\">\n",
              "      <th></th>\n",
              "      <th>startingPoint</th>\n",
              "      <th>#solSearched</th>\n",
              "      <th>sol</th>\n",
              "      <th>f(sol)</th>\n",
              "    </tr>\n",
              "  </thead>\n",
              "  <tbody>\n",
              "    <tr>\n",
              "      <th>0</th>\n",
              "      <td>[-200.0, 300.0]</td>\n",
              "      <td>601</td>\n",
              "      <td>(-242.64223221368846, 274.35828570602325)</td>\n",
              "      <td>-559.775308</td>\n",
              "    </tr>\n",
              "    <tr>\n",
              "      <th>1</th>\n",
              "      <td>[0.0, 0.23]</td>\n",
              "      <td>241</td>\n",
              "      <td>(8.44401110476838, 15.459105193997551)</td>\n",
              "      <td>-66.838278</td>\n",
              "    </tr>\n",
              "    <tr>\n",
              "      <th>2</th>\n",
              "      <td>[404.0, 504.0]</td>\n",
              "      <td>721</td>\n",
              "      <td>(347.6726438164906, 499.51087506513426)</td>\n",
              "      <td>-888.928551</td>\n",
              "    </tr>\n",
              "    <tr>\n",
              "      <th>3</th>\n",
              "      <td>[412.0, -99.9]</td>\n",
              "      <td>751</td>\n",
              "      <td>(361.4572051622431, -107.18526527867137)</td>\n",
              "      <td>-419.305359</td>\n",
              "    </tr>\n",
              "  </tbody>\n",
              "</table>\n",
              "</div>\n",
              "      <button class=\"colab-df-convert\" onclick=\"convertToInteractive('df-5c183d45-b44d-4b9d-8059-1a98acd1af19')\"\n",
              "              title=\"Convert this dataframe to an interactive table.\"\n",
              "              style=\"display:none;\">\n",
              "        \n",
              "  <svg xmlns=\"http://www.w3.org/2000/svg\" height=\"24px\"viewBox=\"0 0 24 24\"\n",
              "       width=\"24px\">\n",
              "    <path d=\"M0 0h24v24H0V0z\" fill=\"none\"/>\n",
              "    <path d=\"M18.56 5.44l.94 2.06.94-2.06 2.06-.94-2.06-.94-.94-2.06-.94 2.06-2.06.94zm-11 1L8.5 8.5l.94-2.06 2.06-.94-2.06-.94L8.5 2.5l-.94 2.06-2.06.94zm10 10l.94 2.06.94-2.06 2.06-.94-2.06-.94-.94-2.06-.94 2.06-2.06.94z\"/><path d=\"M17.41 7.96l-1.37-1.37c-.4-.4-.92-.59-1.43-.59-.52 0-1.04.2-1.43.59L10.3 9.45l-7.72 7.72c-.78.78-.78 2.05 0 2.83L4 21.41c.39.39.9.59 1.41.59.51 0 1.02-.2 1.41-.59l7.78-7.78 2.81-2.81c.8-.78.8-2.07 0-2.86zM5.41 20L4 18.59l7.72-7.72 1.47 1.35L5.41 20z\"/>\n",
              "  </svg>\n",
              "      </button>\n",
              "      \n",
              "  <style>\n",
              "    .colab-df-container {\n",
              "      display:flex;\n",
              "      flex-wrap:wrap;\n",
              "      gap: 12px;\n",
              "    }\n",
              "\n",
              "    .colab-df-convert {\n",
              "      background-color: #E8F0FE;\n",
              "      border: none;\n",
              "      border-radius: 50%;\n",
              "      cursor: pointer;\n",
              "      display: none;\n",
              "      fill: #1967D2;\n",
              "      height: 32px;\n",
              "      padding: 0 0 0 0;\n",
              "      width: 32px;\n",
              "    }\n",
              "\n",
              "    .colab-df-convert:hover {\n",
              "      background-color: #E2EBFA;\n",
              "      box-shadow: 0px 1px 2px rgba(60, 64, 67, 0.3), 0px 1px 3px 1px rgba(60, 64, 67, 0.15);\n",
              "      fill: #174EA6;\n",
              "    }\n",
              "\n",
              "    [theme=dark] .colab-df-convert {\n",
              "      background-color: #3B4455;\n",
              "      fill: #D2E3FC;\n",
              "    }\n",
              "\n",
              "    [theme=dark] .colab-df-convert:hover {\n",
              "      background-color: #434B5C;\n",
              "      box-shadow: 0px 1px 3px 1px rgba(0, 0, 0, 0.15);\n",
              "      filter: drop-shadow(0px 1px 2px rgba(0, 0, 0, 0.3));\n",
              "      fill: #FFFFFF;\n",
              "    }\n",
              "  </style>\n",
              "\n",
              "      <script>\n",
              "        const buttonEl =\n",
              "          document.querySelector('#df-5c183d45-b44d-4b9d-8059-1a98acd1af19 button.colab-df-convert');\n",
              "        buttonEl.style.display =\n",
              "          google.colab.kernel.accessAllowed ? 'block' : 'none';\n",
              "\n",
              "        async function convertToInteractive(key) {\n",
              "          const element = document.querySelector('#df-5c183d45-b44d-4b9d-8059-1a98acd1af19');\n",
              "          const dataTable =\n",
              "            await google.colab.kernel.invokeFunction('convertToInteractive',\n",
              "                                                     [key], {});\n",
              "          if (!dataTable) return;\n",
              "\n",
              "          const docLinkHtml = 'Like what you see? Visit the ' +\n",
              "            '<a target=\"_blank\" href=https://colab.research.google.com/notebooks/data_table.ipynb>data table notebook</a>'\n",
              "            + ' to learn more about interactive tables.';\n",
              "          element.innerHTML = '';\n",
              "          dataTable['output_type'] = 'display_data';\n",
              "          await google.colab.output.renderOutput(dataTable, element);\n",
              "          const docLink = document.createElement('div');\n",
              "          docLink.innerHTML = docLinkHtml;\n",
              "          element.appendChild(docLink);\n",
              "        }\n",
              "      </script>\n",
              "    </div>\n",
              "  </div>\n",
              "  "
            ],
            "text/plain": [
              "     startingPoint  ...      f(sol)\n",
              "0  [-200.0, 300.0]  ... -559.775308\n",
              "1      [0.0, 0.23]  ...  -66.838278\n",
              "2   [404.0, 504.0]  ... -888.928551\n",
              "3   [412.0, -99.9]  ... -419.305359\n",
              "\n",
              "[4 rows x 4 columns]"
            ]
          },
          "metadata": {},
          "execution_count": 11
        },
        {
          "output_type": "stream",
          "name": "stdout",
          "text": [
            "time: 86.3 ms (started: 2022-02-15 23:28:33 +00:00)\n"
          ]
        }
      ]
    },
    {
      "cell_type": "markdown",
      "source": [
        "### Table 4: z = 3, p = 250"
      ],
      "metadata": {
        "id": "7l9QUqr01vGm"
      }
    },
    {
      "cell_type": "code",
      "source": [
        "run1 = pd.DataFrame(columns=[\"startingPoint\",\"#solSearched\",\"sol\",\"f(sol)\"])\n",
        "for sp in startingPoints:\n",
        "  run1.loc[len(run1.index)] = [sp,*list(RHC(sp,250,3,seeds[0]))]\n",
        "run1"
      ],
      "metadata": {
        "colab": {
          "base_uri": "https://localhost:8080/",
          "height": 192
        },
        "id": "XXHnjRXS1xQC",
        "outputId": "4be651b5-1664-45e7-b1fd-b3620a610c87"
      },
      "execution_count": null,
      "outputs": [
        {
          "output_type": "execute_result",
          "data": {
            "text/html": [
              "\n",
              "  <div id=\"df-3c3d7f42-cf9e-4756-b0b1-d712fd1c03f6\">\n",
              "    <div class=\"colab-df-container\">\n",
              "      <div>\n",
              "<style scoped>\n",
              "    .dataframe tbody tr th:only-of-type {\n",
              "        vertical-align: middle;\n",
              "    }\n",
              "\n",
              "    .dataframe tbody tr th {\n",
              "        vertical-align: top;\n",
              "    }\n",
              "\n",
              "    .dataframe thead th {\n",
              "        text-align: right;\n",
              "    }\n",
              "</style>\n",
              "<table border=\"1\" class=\"dataframe\">\n",
              "  <thead>\n",
              "    <tr style=\"text-align: right;\">\n",
              "      <th></th>\n",
              "      <th>startingPoint</th>\n",
              "      <th>#solSearched</th>\n",
              "      <th>sol</th>\n",
              "      <th>f(sol)</th>\n",
              "    </tr>\n",
              "  </thead>\n",
              "  <tbody>\n",
              "    <tr>\n",
              "      <th>0</th>\n",
              "      <td>[-200.0, 300.0]</td>\n",
              "      <td>4001</td>\n",
              "      <td>(-242.87017795912706, 274.2606404588166)</td>\n",
              "      <td>-559.783161</td>\n",
              "    </tr>\n",
              "    <tr>\n",
              "      <th>1</th>\n",
              "      <td>[0.0, 0.23]</td>\n",
              "      <td>1751</td>\n",
              "      <td>(8.532092912039467, 15.631654797984885)</td>\n",
              "      <td>-66.843295</td>\n",
              "    </tr>\n",
              "    <tr>\n",
              "      <th>2</th>\n",
              "      <td>[404.0, 504.0]</td>\n",
              "      <td>5251</td>\n",
              "      <td>(347.55850008094933, 499.5267780446654)</td>\n",
              "      <td>-888.941053</td>\n",
              "    </tr>\n",
              "    <tr>\n",
              "      <th>3</th>\n",
              "      <td>[412.0, -99.9]</td>\n",
              "      <td>5251</td>\n",
              "      <td>(361.4863218602253, -107.08684874777252)</td>\n",
              "      <td>-419.308770</td>\n",
              "    </tr>\n",
              "  </tbody>\n",
              "</table>\n",
              "</div>\n",
              "      <button class=\"colab-df-convert\" onclick=\"convertToInteractive('df-3c3d7f42-cf9e-4756-b0b1-d712fd1c03f6')\"\n",
              "              title=\"Convert this dataframe to an interactive table.\"\n",
              "              style=\"display:none;\">\n",
              "        \n",
              "  <svg xmlns=\"http://www.w3.org/2000/svg\" height=\"24px\"viewBox=\"0 0 24 24\"\n",
              "       width=\"24px\">\n",
              "    <path d=\"M0 0h24v24H0V0z\" fill=\"none\"/>\n",
              "    <path d=\"M18.56 5.44l.94 2.06.94-2.06 2.06-.94-2.06-.94-.94-2.06-.94 2.06-2.06.94zm-11 1L8.5 8.5l.94-2.06 2.06-.94-2.06-.94L8.5 2.5l-.94 2.06-2.06.94zm10 10l.94 2.06.94-2.06 2.06-.94-2.06-.94-.94-2.06-.94 2.06-2.06.94z\"/><path d=\"M17.41 7.96l-1.37-1.37c-.4-.4-.92-.59-1.43-.59-.52 0-1.04.2-1.43.59L10.3 9.45l-7.72 7.72c-.78.78-.78 2.05 0 2.83L4 21.41c.39.39.9.59 1.41.59.51 0 1.02-.2 1.41-.59l7.78-7.78 2.81-2.81c.8-.78.8-2.07 0-2.86zM5.41 20L4 18.59l7.72-7.72 1.47 1.35L5.41 20z\"/>\n",
              "  </svg>\n",
              "      </button>\n",
              "      \n",
              "  <style>\n",
              "    .colab-df-container {\n",
              "      display:flex;\n",
              "      flex-wrap:wrap;\n",
              "      gap: 12px;\n",
              "    }\n",
              "\n",
              "    .colab-df-convert {\n",
              "      background-color: #E8F0FE;\n",
              "      border: none;\n",
              "      border-radius: 50%;\n",
              "      cursor: pointer;\n",
              "      display: none;\n",
              "      fill: #1967D2;\n",
              "      height: 32px;\n",
              "      padding: 0 0 0 0;\n",
              "      width: 32px;\n",
              "    }\n",
              "\n",
              "    .colab-df-convert:hover {\n",
              "      background-color: #E2EBFA;\n",
              "      box-shadow: 0px 1px 2px rgba(60, 64, 67, 0.3), 0px 1px 3px 1px rgba(60, 64, 67, 0.15);\n",
              "      fill: #174EA6;\n",
              "    }\n",
              "\n",
              "    [theme=dark] .colab-df-convert {\n",
              "      background-color: #3B4455;\n",
              "      fill: #D2E3FC;\n",
              "    }\n",
              "\n",
              "    [theme=dark] .colab-df-convert:hover {\n",
              "      background-color: #434B5C;\n",
              "      box-shadow: 0px 1px 3px 1px rgba(0, 0, 0, 0.15);\n",
              "      filter: drop-shadow(0px 1px 2px rgba(0, 0, 0, 0.3));\n",
              "      fill: #FFFFFF;\n",
              "    }\n",
              "  </style>\n",
              "\n",
              "      <script>\n",
              "        const buttonEl =\n",
              "          document.querySelector('#df-3c3d7f42-cf9e-4756-b0b1-d712fd1c03f6 button.colab-df-convert');\n",
              "        buttonEl.style.display =\n",
              "          google.colab.kernel.accessAllowed ? 'block' : 'none';\n",
              "\n",
              "        async function convertToInteractive(key) {\n",
              "          const element = document.querySelector('#df-3c3d7f42-cf9e-4756-b0b1-d712fd1c03f6');\n",
              "          const dataTable =\n",
              "            await google.colab.kernel.invokeFunction('convertToInteractive',\n",
              "                                                     [key], {});\n",
              "          if (!dataTable) return;\n",
              "\n",
              "          const docLinkHtml = 'Like what you see? Visit the ' +\n",
              "            '<a target=\"_blank\" href=https://colab.research.google.com/notebooks/data_table.ipynb>data table notebook</a>'\n",
              "            + ' to learn more about interactive tables.';\n",
              "          element.innerHTML = '';\n",
              "          dataTable['output_type'] = 'display_data';\n",
              "          await google.colab.output.renderOutput(dataTable, element);\n",
              "          const docLink = document.createElement('div');\n",
              "          docLink.innerHTML = docLinkHtml;\n",
              "          element.appendChild(docLink);\n",
              "        }\n",
              "      </script>\n",
              "    </div>\n",
              "  </div>\n",
              "  "
            ],
            "text/plain": [
              "     startingPoint  ...      f(sol)\n",
              "0  [-200.0, 300.0]  ... -559.783161\n",
              "1      [0.0, 0.23]  ...  -66.843295\n",
              "2   [404.0, 504.0]  ... -888.941053\n",
              "3   [412.0, -99.9]  ... -419.308770\n",
              "\n",
              "[4 rows x 4 columns]"
            ]
          },
          "metadata": {},
          "execution_count": 12
        },
        {
          "output_type": "stream",
          "name": "stdout",
          "text": [
            "time: 189 ms (started: 2022-02-15 23:28:33 +00:00)\n"
          ]
        }
      ]
    },
    {
      "cell_type": "code",
      "source": [
        "run2 = pd.DataFrame(columns=[\"startingPoint\",\"#solSearched\",\"sol\",\"f(sol)\"])\n",
        "for sp in startingPoints:\n",
        "  run2.loc[len(run2.index)] = [sp,*list(RHC(sp,250,3,seeds[1]))]\n",
        "run2"
      ],
      "metadata": {
        "colab": {
          "base_uri": "https://localhost:8080/",
          "height": 192
        },
        "id": "hj3tPIQYXoo_",
        "outputId": "ecab7444-e763-4e44-a0c3-2b32210ce770"
      },
      "execution_count": null,
      "outputs": [
        {
          "output_type": "execute_result",
          "data": {
            "text/html": [
              "\n",
              "  <div id=\"df-eca60262-a08e-47e4-8d9d-72368a15bedc\">\n",
              "    <div class=\"colab-df-container\">\n",
              "      <div>\n",
              "<style scoped>\n",
              "    .dataframe tbody tr th:only-of-type {\n",
              "        vertical-align: middle;\n",
              "    }\n",
              "\n",
              "    .dataframe tbody tr th {\n",
              "        vertical-align: top;\n",
              "    }\n",
              "\n",
              "    .dataframe thead th {\n",
              "        text-align: right;\n",
              "    }\n",
              "</style>\n",
              "<table border=\"1\" class=\"dataframe\">\n",
              "  <thead>\n",
              "    <tr style=\"text-align: right;\">\n",
              "      <th></th>\n",
              "      <th>startingPoint</th>\n",
              "      <th>#solSearched</th>\n",
              "      <th>sol</th>\n",
              "      <th>f(sol)</th>\n",
              "    </tr>\n",
              "  </thead>\n",
              "  <tbody>\n",
              "    <tr>\n",
              "      <th>0</th>\n",
              "      <td>[-200.0, 300.0]</td>\n",
              "      <td>4251</td>\n",
              "      <td>(-243.2801986121297, 274.4650073090307)</td>\n",
              "      <td>-559.777725</td>\n",
              "    </tr>\n",
              "    <tr>\n",
              "      <th>1</th>\n",
              "      <td>[0.0, 0.23]</td>\n",
              "      <td>2251</td>\n",
              "      <td>(8.493298812498152, 15.730087276476599)</td>\n",
              "      <td>-66.842575</td>\n",
              "    </tr>\n",
              "    <tr>\n",
              "      <th>2</th>\n",
              "      <td>[404.0, 504.0]</td>\n",
              "      <td>5251</td>\n",
              "      <td>(347.27683223032085, 499.4324167309424)</td>\n",
              "      <td>-888.948131</td>\n",
              "    </tr>\n",
              "    <tr>\n",
              "      <th>3</th>\n",
              "      <td>[412.0, -99.9]</td>\n",
              "      <td>5001</td>\n",
              "      <td>(361.57841506762026, -106.95918353472823)</td>\n",
              "      <td>-419.310909</td>\n",
              "    </tr>\n",
              "  </tbody>\n",
              "</table>\n",
              "</div>\n",
              "      <button class=\"colab-df-convert\" onclick=\"convertToInteractive('df-eca60262-a08e-47e4-8d9d-72368a15bedc')\"\n",
              "              title=\"Convert this dataframe to an interactive table.\"\n",
              "              style=\"display:none;\">\n",
              "        \n",
              "  <svg xmlns=\"http://www.w3.org/2000/svg\" height=\"24px\"viewBox=\"0 0 24 24\"\n",
              "       width=\"24px\">\n",
              "    <path d=\"M0 0h24v24H0V0z\" fill=\"none\"/>\n",
              "    <path d=\"M18.56 5.44l.94 2.06.94-2.06 2.06-.94-2.06-.94-.94-2.06-.94 2.06-2.06.94zm-11 1L8.5 8.5l.94-2.06 2.06-.94-2.06-.94L8.5 2.5l-.94 2.06-2.06.94zm10 10l.94 2.06.94-2.06 2.06-.94-2.06-.94-.94-2.06-.94 2.06-2.06.94z\"/><path d=\"M17.41 7.96l-1.37-1.37c-.4-.4-.92-.59-1.43-.59-.52 0-1.04.2-1.43.59L10.3 9.45l-7.72 7.72c-.78.78-.78 2.05 0 2.83L4 21.41c.39.39.9.59 1.41.59.51 0 1.02-.2 1.41-.59l7.78-7.78 2.81-2.81c.8-.78.8-2.07 0-2.86zM5.41 20L4 18.59l7.72-7.72 1.47 1.35L5.41 20z\"/>\n",
              "  </svg>\n",
              "      </button>\n",
              "      \n",
              "  <style>\n",
              "    .colab-df-container {\n",
              "      display:flex;\n",
              "      flex-wrap:wrap;\n",
              "      gap: 12px;\n",
              "    }\n",
              "\n",
              "    .colab-df-convert {\n",
              "      background-color: #E8F0FE;\n",
              "      border: none;\n",
              "      border-radius: 50%;\n",
              "      cursor: pointer;\n",
              "      display: none;\n",
              "      fill: #1967D2;\n",
              "      height: 32px;\n",
              "      padding: 0 0 0 0;\n",
              "      width: 32px;\n",
              "    }\n",
              "\n",
              "    .colab-df-convert:hover {\n",
              "      background-color: #E2EBFA;\n",
              "      box-shadow: 0px 1px 2px rgba(60, 64, 67, 0.3), 0px 1px 3px 1px rgba(60, 64, 67, 0.15);\n",
              "      fill: #174EA6;\n",
              "    }\n",
              "\n",
              "    [theme=dark] .colab-df-convert {\n",
              "      background-color: #3B4455;\n",
              "      fill: #D2E3FC;\n",
              "    }\n",
              "\n",
              "    [theme=dark] .colab-df-convert:hover {\n",
              "      background-color: #434B5C;\n",
              "      box-shadow: 0px 1px 3px 1px rgba(0, 0, 0, 0.15);\n",
              "      filter: drop-shadow(0px 1px 2px rgba(0, 0, 0, 0.3));\n",
              "      fill: #FFFFFF;\n",
              "    }\n",
              "  </style>\n",
              "\n",
              "      <script>\n",
              "        const buttonEl =\n",
              "          document.querySelector('#df-eca60262-a08e-47e4-8d9d-72368a15bedc button.colab-df-convert');\n",
              "        buttonEl.style.display =\n",
              "          google.colab.kernel.accessAllowed ? 'block' : 'none';\n",
              "\n",
              "        async function convertToInteractive(key) {\n",
              "          const element = document.querySelector('#df-eca60262-a08e-47e4-8d9d-72368a15bedc');\n",
              "          const dataTable =\n",
              "            await google.colab.kernel.invokeFunction('convertToInteractive',\n",
              "                                                     [key], {});\n",
              "          if (!dataTable) return;\n",
              "\n",
              "          const docLinkHtml = 'Like what you see? Visit the ' +\n",
              "            '<a target=\"_blank\" href=https://colab.research.google.com/notebooks/data_table.ipynb>data table notebook</a>'\n",
              "            + ' to learn more about interactive tables.';\n",
              "          element.innerHTML = '';\n",
              "          dataTable['output_type'] = 'display_data';\n",
              "          await google.colab.output.renderOutput(dataTable, element);\n",
              "          const docLink = document.createElement('div');\n",
              "          docLink.innerHTML = docLinkHtml;\n",
              "          element.appendChild(docLink);\n",
              "        }\n",
              "      </script>\n",
              "    </div>\n",
              "  </div>\n",
              "  "
            ],
            "text/plain": [
              "     startingPoint  ...      f(sol)\n",
              "0  [-200.0, 300.0]  ... -559.777725\n",
              "1      [0.0, 0.23]  ...  -66.842575\n",
              "2   [404.0, 504.0]  ... -888.948131\n",
              "3   [412.0, -99.9]  ... -419.310909\n",
              "\n",
              "[4 rows x 4 columns]"
            ]
          },
          "metadata": {},
          "execution_count": 28
        },
        {
          "output_type": "stream",
          "name": "stdout",
          "text": [
            "time: 158 ms (started: 2022-02-15 23:43:14 +00:00)\n"
          ]
        }
      ]
    },
    {
      "cell_type": "markdown",
      "source": [
        "## The \"33rd\" run"
      ],
      "metadata": {
        "id": "_P4lLLsja3_q"
      }
    },
    {
      "cell_type": "markdown",
      "source": [
        "Here I'll use restarts to try and brute force my way to a better solution than ~ -888.95. <br />\n",
        "\n",
        "We can use low p and high z with many restarts to find ballpark area of good minima 'quickly', then crank up p and lower z along with that ballpark area as a start point to find an even better minima. \n",
        "\n",
        "This can be done in two different ways:"
      ],
      "metadata": {
        "id": "RRrHNW9afUfZ"
      }
    },
    {
      "cell_type": "code",
      "source": [
        "def gridRestartRHC(dist, p1, p2, z2, seed): #dist is the spacing between the starting points in the starting point grid\n",
        "#p1,z1=dist/2 are the parameters used for the crude discovery\n",
        "#p2,z2 are the fine-grain search parameters\n",
        "  # low p and high z with many restarts to find ballpark area of good minimum\n",
        "    #first we produce the grid\n",
        "  sequence = [x for x in range(-512,513,dist)]\n",
        "  allPerms = []\n",
        "  for i in sequence:\n",
        "    for j in sequence:\n",
        "      allPerms.append((i,j))\n",
        "  print(f\"We have {len(allPerms)} starting points in the grid.\")\n",
        "    # now we use the grid as starting points for a crude search\n",
        "  best = None\n",
        "  totalSolutionsInspected = 0\n",
        "  for sp in allPerms:\n",
        "    newRun = RHC(sp,p1,dist/2,seed) #'z1' is based on dist\n",
        "    totalSolutionsInspected += newRun[0]\n",
        "    if best == None:\n",
        "      best = newRun\n",
        "    elif newRun[2] < best[2]:\n",
        "        best = newRun\n",
        "  print(f\"Intermediate best was:\\nf({best[1][0]},{best[1][1]}) = {best[2]}\")\n",
        "\n",
        "  # next we crank up p and lower z to perform a higher resolution search starting at the intermediate best to further optimize\n",
        "  best = RHC(best[1],p2,z2,seed)\n",
        "  totalSolutionsInspected += best[0]\n",
        "  # finally we print our results\n",
        "  print(f\"After searching through {totalSolutionsInspected} total points, the best solution found was:\\nf({best[1][0]},{best[1][1]} = {best[2]}\")"
      ],
      "metadata": {
        "colab": {
          "base_uri": "https://localhost:8080/"
        },
        "id": "bXR7CQaffT5V",
        "outputId": "8346aa40-2cfb-4a6e-a848-92c0a3fb6dbe"
      },
      "execution_count": null,
      "outputs": [
        {
          "output_type": "stream",
          "name": "stdout",
          "text": [
            "time: 39.7 ms (started: 2022-02-16 23:16:03 +00:00)\n"
          ]
        }
      ]
    },
    {
      "cell_type": "code",
      "source": [
        "gridRestartRHC(2**3,10,500,0.1,1)"
      ],
      "metadata": {
        "colab": {
          "base_uri": "https://localhost:8080/"
        },
        "id": "nf0YzMiRgWNS",
        "outputId": "1de13e34-bd9e-42bc-ac15-971fbb929900"
      },
      "execution_count": null,
      "outputs": [
        {
          "output_type": "stream",
          "name": "stdout",
          "text": [
            "We have 16641 starting points\n",
            "intermediate best is f(511.9841390251008,404.154124433487) = -959.5823445692604\n",
            "After searching through 3388272, the best solution found was:\n",
            "f(511.999705293255,404.2221969380265 = -959.6395656999875\n",
            "time: 24.6 s (started: 2022-02-16 22:54:01 +00:00)\n"
          ]
        }
      ]
    },
    {
      "cell_type": "code",
      "source": [
        "gridRestartRHC(2**4,10,500,0.1,2)"
      ],
      "metadata": {
        "colab": {
          "base_uri": "https://localhost:8080/"
        },
        "id": "HVC7yWkAToIN",
        "outputId": "23b6dbef-ba3f-45f1-e938-288c973e6287"
      },
      "execution_count": null,
      "outputs": [
        {
          "output_type": "stream",
          "name": "stdout",
          "text": [
            "We have 4225 starting points\n",
            "intermediate best is f(511.83850516287004,403.96302456135834) = -959.072139937412\n",
            "After searching through 459026, the best solution found was:\n",
            "f(511.99963403809363,404.2124499520243 = -959.6390121804029\n",
            "time: 3.74 s (started: 2022-02-16 23:09:50 +00:00)\n"
          ]
        }
      ]
    },
    {
      "cell_type": "code",
      "source": [
        "gridRestartRHC(2**5,10,500,0.1,4)"
      ],
      "metadata": {
        "colab": {
          "base_uri": "https://localhost:8080/"
        },
        "id": "4g1Ua65rgseY",
        "outputId": "92ff3100-4c6b-42d4-d7c1-20b153611c29"
      },
      "execution_count": null,
      "outputs": [
        {
          "output_type": "stream",
          "name": "stdout",
          "text": [
            "We have 1089 starting points\n",
            "intermediate best is f(511.83906287362146,402.75248921906297) = -957.0839315471355\n",
            "After searching through 72390, the best solution found was:\n",
            "f(511.999761775651,404.2070049534318 = -959.6391690723226\n",
            "time: 639 ms (started: 2022-02-16 23:10:09 +00:00)\n"
          ]
        }
      ]
    },
    {
      "cell_type": "code",
      "source": [
        "gridRestartRHC(2**6,10,500,0.1,1)"
      ],
      "metadata": {
        "colab": {
          "base_uri": "https://localhost:8080/"
        },
        "id": "OooNiKDrg1rQ",
        "outputId": "54511983-137c-4b3c-cf8c-f0a6104ada10"
      },
      "execution_count": null,
      "outputs": [
        {
          "output_type": "stream",
          "name": "stdout",
          "text": [
            "We have 289 starting points in the grid.\n",
            "Intermediate best was:\n",
            "f(508.5047804195073,398.1785620698101) = -936.3503624725432\n",
            "After searching through 44060 total points, the best solution found was:\n",
            "f(511.9999805921124,404.22042617259797 = -959.6404502773961\n",
            "time: 344 ms (started: 2022-02-16 23:16:38 +00:00)\n"
          ]
        }
      ]
    },
    {
      "cell_type": "code",
      "source": [
        "gridRestartRHC(2**7,10,500,0.1,3)"
      ],
      "metadata": {
        "colab": {
          "base_uri": "https://localhost:8080/"
        },
        "id": "z85kk5oFg5In",
        "outputId": "63d53296-9130-4a49-f2d8-f46b88785c75"
      },
      "execution_count": null,
      "outputs": [
        {
          "output_type": "stream",
          "name": "stdout",
          "text": [
            "We have 81 starting points in the grid.\n",
            "Intermediate best was:\n",
            "f(509.43898527929935,397.4003434125703) = -927.3338278529279\n",
            "After searching through 38862 total points, the best solution found was:\n",
            "f(511.99991152608544,404.24646397101253 = -959.6401162282449\n",
            "time: 479 ms (started: 2022-02-16 23:16:22 +00:00)\n"
          ]
        }
      ]
    },
    {
      "cell_type": "code",
      "source": [
        "gridRestartRHC(2**8,10,500,0.1,2)"
      ],
      "metadata": {
        "colab": {
          "base_uri": "https://localhost:8080/"
        },
        "id": "bfFHNwsijWgR",
        "outputId": "c3ef0206-3c33-4a3e-e989-9ce6f6592800"
      },
      "execution_count": null,
      "outputs": [
        {
          "output_type": "stream",
          "name": "stdout",
          "text": [
            "We have 25 starting points\n",
            "intermediate best is f(474.5694663274505,425.26327124582883) = -945.1525059005091\n",
            "After searching through 42716, the best solution found was:\n",
            "f(482.34744491578766,432.8743443595374 = -956.9181911201148\n",
            "time: 339 ms (started: 2022-02-16 22:54:31 +00:00)\n"
          ]
        }
      ]
    },
    {
      "cell_type": "code",
      "source": [
        "gridRestartRHC(2**9,10,500,0.1,2)"
      ],
      "metadata": {
        "colab": {
          "base_uri": "https://localhost:8080/"
        },
        "id": "FnJulY6gjzZR",
        "outputId": "1bffcb62-a980-400b-b85b-f51d2f7fe844"
      },
      "execution_count": null,
      "outputs": [
        {
          "output_type": "stream",
          "name": "stdout",
          "text": [
            "We have 9 starting points\n",
            "intermediate best is f(499.3074712828409,388.22638771175394) = -868.4027505879723\n",
            "After searching through 84250, the best solution found was:\n",
            "f(511.99975327129636,404.2360046765701 = -959.6398051777426\n",
            "time: 571 ms (started: 2022-02-15 23:29:06 +00:00)\n"
          ]
        }
      ]
    },
    {
      "cell_type": "code",
      "source": [
        "gridRestartRHC(2**10,10,500,0.1,3)"
      ],
      "metadata": {
        "colab": {
          "base_uri": "https://localhost:8080/"
        },
        "id": "WZ_HBOqJkIAL",
        "outputId": "d86b43d3-3e41-4e2d-f3f9-8baa4fa2c20d"
      },
      "execution_count": null,
      "outputs": [
        {
          "output_type": "stream",
          "name": "stdout",
          "text": [
            "We have 4 starting points\n",
            "intermediate best is f(331.27572389230977,491.72259885861547) = -851.1541984110589\n",
            "After searching through 82105, the best solution found was:\n",
            "f(347.3268822436294,499.41656617595163 = -888.9491248028082\n",
            "time: 598 ms (started: 2022-02-16 22:55:45 +00:00)\n"
          ]
        }
      ]
    },
    {
      "cell_type": "code",
      "source": [
        "gridRestartRHC(2**11,10,500,0.1,2)"
      ],
      "metadata": {
        "colab": {
          "base_uri": "https://localhost:8080/"
        },
        "id": "3ykxcPqdkO2e",
        "outputId": "33dff6b0-97ea-4fee-e013-f68040e628c2"
      },
      "execution_count": null,
      "outputs": [
        {
          "output_type": "stream",
          "name": "stdout",
          "text": [
            "We have 1 starting points\n",
            "intermediate best is f(290.3848096323327,-459.258328788934) = -529.0910440204091\n",
            "After searching through 142522, the best solution found was:\n",
            "f(283.07560618133476,-487.1268655768635 = -718.1674592435128\n",
            "time: 999 ms (started: 2022-02-16 22:55:34 +00:00)\n"
          ]
        }
      ]
    },
    {
      "cell_type": "markdown",
      "source": [
        "## Effects of changing p"
      ],
      "metadata": {
        "id": "7N1HjyqRjQkO"
      }
    },
    {
      "cell_type": "code",
      "source": [
        "changingP = pd.DataFrame(columns = [\"p\",\"#solSearched\",\"sol\",\"f(sol)\"])\n",
        "for i in range(6):\n",
        "  changingP.loc[len(changingP.index)] = [2**(5+i), *RHC((0,0),2**(5+i),1,1)]\n",
        "changingP"
      ],
      "metadata": {
        "colab": {
          "base_uri": "https://localhost:8080/",
          "height": 255
        },
        "id": "hNPyGLVnjOhE",
        "outputId": "58d1b297-6405-4289-cc38-840f27b65480"
      },
      "execution_count": null,
      "outputs": [
        {
          "output_type": "execute_result",
          "data": {
            "text/html": [
              "\n",
              "  <div id=\"df-73212899-4a2a-4abf-9837-b8ae9789ea15\">\n",
              "    <div class=\"colab-df-container\">\n",
              "      <div>\n",
              "<style scoped>\n",
              "    .dataframe tbody tr th:only-of-type {\n",
              "        vertical-align: middle;\n",
              "    }\n",
              "\n",
              "    .dataframe tbody tr th {\n",
              "        vertical-align: top;\n",
              "    }\n",
              "\n",
              "    .dataframe thead th {\n",
              "        text-align: right;\n",
              "    }\n",
              "</style>\n",
              "<table border=\"1\" class=\"dataframe\">\n",
              "  <thead>\n",
              "    <tr style=\"text-align: right;\">\n",
              "      <th></th>\n",
              "      <th>p</th>\n",
              "      <th>#solSearched</th>\n",
              "      <th>sol</th>\n",
              "      <th>f(sol)</th>\n",
              "    </tr>\n",
              "  </thead>\n",
              "  <tbody>\n",
              "    <tr>\n",
              "      <th>0</th>\n",
              "      <td>32</td>\n",
              "      <td>641</td>\n",
              "      <td>(8.368065225978475, 15.769662263777697)</td>\n",
              "      <td>-66.841578</td>\n",
              "    </tr>\n",
              "    <tr>\n",
              "      <th>1</th>\n",
              "      <td>64</td>\n",
              "      <td>1281</td>\n",
              "      <td>(8.424355140385568, 15.661582803381881)</td>\n",
              "      <td>-66.843636</td>\n",
              "    </tr>\n",
              "    <tr>\n",
              "      <th>2</th>\n",
              "      <td>128</td>\n",
              "      <td>2305</td>\n",
              "      <td>(8.469027518040418, 15.67033483913617)</td>\n",
              "      <td>-66.843641</td>\n",
              "    </tr>\n",
              "    <tr>\n",
              "      <th>3</th>\n",
              "      <td>256</td>\n",
              "      <td>4609</td>\n",
              "      <td>(8.428600597390634, 15.66023501564695)</td>\n",
              "      <td>-66.843655</td>\n",
              "    </tr>\n",
              "    <tr>\n",
              "      <th>4</th>\n",
              "      <td>512</td>\n",
              "      <td>9217</td>\n",
              "      <td>(8.43905188351823, 15.661658491971366)</td>\n",
              "      <td>-66.843685</td>\n",
              "    </tr>\n",
              "    <tr>\n",
              "      <th>5</th>\n",
              "      <td>1024</td>\n",
              "      <td>17409</td>\n",
              "      <td>(8.438538441793161, 15.638006949365966)</td>\n",
              "      <td>-66.843656</td>\n",
              "    </tr>\n",
              "  </tbody>\n",
              "</table>\n",
              "</div>\n",
              "      <button class=\"colab-df-convert\" onclick=\"convertToInteractive('df-73212899-4a2a-4abf-9837-b8ae9789ea15')\"\n",
              "              title=\"Convert this dataframe to an interactive table.\"\n",
              "              style=\"display:none;\">\n",
              "        \n",
              "  <svg xmlns=\"http://www.w3.org/2000/svg\" height=\"24px\"viewBox=\"0 0 24 24\"\n",
              "       width=\"24px\">\n",
              "    <path d=\"M0 0h24v24H0V0z\" fill=\"none\"/>\n",
              "    <path d=\"M18.56 5.44l.94 2.06.94-2.06 2.06-.94-2.06-.94-.94-2.06-.94 2.06-2.06.94zm-11 1L8.5 8.5l.94-2.06 2.06-.94-2.06-.94L8.5 2.5l-.94 2.06-2.06.94zm10 10l.94 2.06.94-2.06 2.06-.94-2.06-.94-.94-2.06-.94 2.06-2.06.94z\"/><path d=\"M17.41 7.96l-1.37-1.37c-.4-.4-.92-.59-1.43-.59-.52 0-1.04.2-1.43.59L10.3 9.45l-7.72 7.72c-.78.78-.78 2.05 0 2.83L4 21.41c.39.39.9.59 1.41.59.51 0 1.02-.2 1.41-.59l7.78-7.78 2.81-2.81c.8-.78.8-2.07 0-2.86zM5.41 20L4 18.59l7.72-7.72 1.47 1.35L5.41 20z\"/>\n",
              "  </svg>\n",
              "      </button>\n",
              "      \n",
              "  <style>\n",
              "    .colab-df-container {\n",
              "      display:flex;\n",
              "      flex-wrap:wrap;\n",
              "      gap: 12px;\n",
              "    }\n",
              "\n",
              "    .colab-df-convert {\n",
              "      background-color: #E8F0FE;\n",
              "      border: none;\n",
              "      border-radius: 50%;\n",
              "      cursor: pointer;\n",
              "      display: none;\n",
              "      fill: #1967D2;\n",
              "      height: 32px;\n",
              "      padding: 0 0 0 0;\n",
              "      width: 32px;\n",
              "    }\n",
              "\n",
              "    .colab-df-convert:hover {\n",
              "      background-color: #E2EBFA;\n",
              "      box-shadow: 0px 1px 2px rgba(60, 64, 67, 0.3), 0px 1px 3px 1px rgba(60, 64, 67, 0.15);\n",
              "      fill: #174EA6;\n",
              "    }\n",
              "\n",
              "    [theme=dark] .colab-df-convert {\n",
              "      background-color: #3B4455;\n",
              "      fill: #D2E3FC;\n",
              "    }\n",
              "\n",
              "    [theme=dark] .colab-df-convert:hover {\n",
              "      background-color: #434B5C;\n",
              "      box-shadow: 0px 1px 3px 1px rgba(0, 0, 0, 0.15);\n",
              "      filter: drop-shadow(0px 1px 2px rgba(0, 0, 0, 0.3));\n",
              "      fill: #FFFFFF;\n",
              "    }\n",
              "  </style>\n",
              "\n",
              "      <script>\n",
              "        const buttonEl =\n",
              "          document.querySelector('#df-73212899-4a2a-4abf-9837-b8ae9789ea15 button.colab-df-convert');\n",
              "        buttonEl.style.display =\n",
              "          google.colab.kernel.accessAllowed ? 'block' : 'none';\n",
              "\n",
              "        async function convertToInteractive(key) {\n",
              "          const element = document.querySelector('#df-73212899-4a2a-4abf-9837-b8ae9789ea15');\n",
              "          const dataTable =\n",
              "            await google.colab.kernel.invokeFunction('convertToInteractive',\n",
              "                                                     [key], {});\n",
              "          if (!dataTable) return;\n",
              "\n",
              "          const docLinkHtml = 'Like what you see? Visit the ' +\n",
              "            '<a target=\"_blank\" href=https://colab.research.google.com/notebooks/data_table.ipynb>data table notebook</a>'\n",
              "            + ' to learn more about interactive tables.';\n",
              "          element.innerHTML = '';\n",
              "          dataTable['output_type'] = 'display_data';\n",
              "          await google.colab.output.renderOutput(dataTable, element);\n",
              "          const docLink = document.createElement('div');\n",
              "          docLink.innerHTML = docLinkHtml;\n",
              "          element.appendChild(docLink);\n",
              "        }\n",
              "      </script>\n",
              "    </div>\n",
              "  </div>\n",
              "  "
            ],
            "text/plain": [
              "      p #solSearched                                      sol     f(sol)\n",
              "0    32          641  (8.368065225978475, 15.769662263777697) -66.841578\n",
              "1    64         1281  (8.424355140385568, 15.661582803381881) -66.843636\n",
              "2   128         2305   (8.469027518040418, 15.67033483913617) -66.843641\n",
              "3   256         4609   (8.428600597390634, 15.66023501564695) -66.843655\n",
              "4   512         9217   (8.43905188351823, 15.661658491971366) -66.843685\n",
              "5  1024        17409  (8.438538441793161, 15.638006949365966) -66.843656"
            ]
          },
          "metadata": {},
          "execution_count": 13
        },
        {
          "output_type": "stream",
          "name": "stdout",
          "text": [
            "time: 318 ms (started: 2022-02-16 22:13:37 +00:00)\n"
          ]
        }
      ]
    },
    {
      "cell_type": "markdown",
      "source": [
        "## Effects of changing z"
      ],
      "metadata": {
        "id": "gZYCGEdMkWbO"
      }
    },
    {
      "cell_type": "code",
      "source": [
        "changingZ = pd.DataFrame(columns = [\"z\",\"#solSearched\",\"sol\",\"f(sol)\"])\n",
        "for i in range(10):\n",
        "  changingZ.loc[len(changingZ.index)] = [-0.5+2**i, *RHC(sp=(0,0),p=128,z=-0.5+2**i,seed=1)]\n",
        "changingZ"
      ],
      "metadata": {
        "colab": {
          "base_uri": "https://localhost:8080/",
          "height": 380
        },
        "id": "7tf3FF4QkZiy",
        "outputId": "721b4308-93c9-49ae-9cd9-267acdd2967b"
      },
      "execution_count": null,
      "outputs": [
        {
          "output_type": "execute_result",
          "data": {
            "text/html": [
              "\n",
              "  <div id=\"df-364c8c33-c9d5-43a5-9a93-597a460e5f06\">\n",
              "    <div class=\"colab-df-container\">\n",
              "      <div>\n",
              "<style scoped>\n",
              "    .dataframe tbody tr th:only-of-type {\n",
              "        vertical-align: middle;\n",
              "    }\n",
              "\n",
              "    .dataframe tbody tr th {\n",
              "        vertical-align: top;\n",
              "    }\n",
              "\n",
              "    .dataframe thead th {\n",
              "        text-align: right;\n",
              "    }\n",
              "</style>\n",
              "<table border=\"1\" class=\"dataframe\">\n",
              "  <thead>\n",
              "    <tr style=\"text-align: right;\">\n",
              "      <th></th>\n",
              "      <th>z</th>\n",
              "      <th>#solSearched</th>\n",
              "      <th>sol</th>\n",
              "      <th>f(sol)</th>\n",
              "    </tr>\n",
              "  </thead>\n",
              "  <tbody>\n",
              "    <tr>\n",
              "      <th>0</th>\n",
              "      <td>0.5</td>\n",
              "      <td>4481</td>\n",
              "      <td>(8.433646406913356, 15.657116980337639)</td>\n",
              "      <td>-66.843677</td>\n",
              "    </tr>\n",
              "    <tr>\n",
              "      <th>1</th>\n",
              "      <td>1.5</td>\n",
              "      <td>1537</td>\n",
              "      <td>(8.431236056667938, 15.695959924907129)</td>\n",
              "      <td>-66.843428</td>\n",
              "    </tr>\n",
              "    <tr>\n",
              "      <th>2</th>\n",
              "      <td>3.5</td>\n",
              "      <td>769</td>\n",
              "      <td>(8.277138574925646, 15.895478714784103)</td>\n",
              "      <td>-66.834728</td>\n",
              "    </tr>\n",
              "    <tr>\n",
              "      <th>3</th>\n",
              "      <td>7.5</td>\n",
              "      <td>641</td>\n",
              "      <td>(8.327784577285831, 15.371997647823882)</td>\n",
              "      <td>-66.829500</td>\n",
              "    </tr>\n",
              "    <tr>\n",
              "      <th>4</th>\n",
              "      <td>15.5</td>\n",
              "      <td>385</td>\n",
              "      <td>(7.181467549434279, 16.200865349733018)</td>\n",
              "      <td>-66.716769</td>\n",
              "    </tr>\n",
              "    <tr>\n",
              "      <th>5</th>\n",
              "      <td>31.5</td>\n",
              "      <td>385</td>\n",
              "      <td>(-45.76572979797494, 39.67202300311018)</td>\n",
              "      <td>-125.792416</td>\n",
              "    </tr>\n",
              "    <tr>\n",
              "      <th>6</th>\n",
              "      <td>63.5</td>\n",
              "      <td>385</td>\n",
              "      <td>(-53.761820819446584, 37.717206845914426)</td>\n",
              "      <td>-120.621349</td>\n",
              "    </tr>\n",
              "    <tr>\n",
              "      <th>7</th>\n",
              "      <td>127.5</td>\n",
              "      <td>769</td>\n",
              "      <td>(423.98059702924866, 181.965986500953)</td>\n",
              "      <td>-609.391304</td>\n",
              "    </tr>\n",
              "    <tr>\n",
              "      <th>8</th>\n",
              "      <td>255.5</td>\n",
              "      <td>385</td>\n",
              "      <td>(-442.58572380749183, -374.06179004995755)</td>\n",
              "      <td>-752.744422</td>\n",
              "    </tr>\n",
              "    <tr>\n",
              "      <th>9</th>\n",
              "      <td>511.5</td>\n",
              "      <td>257</td>\n",
              "      <td>(-454.08586663628256, 378.5203887457026)</td>\n",
              "      <td>-871.182142</td>\n",
              "    </tr>\n",
              "  </tbody>\n",
              "</table>\n",
              "</div>\n",
              "      <button class=\"colab-df-convert\" onclick=\"convertToInteractive('df-364c8c33-c9d5-43a5-9a93-597a460e5f06')\"\n",
              "              title=\"Convert this dataframe to an interactive table.\"\n",
              "              style=\"display:none;\">\n",
              "        \n",
              "  <svg xmlns=\"http://www.w3.org/2000/svg\" height=\"24px\"viewBox=\"0 0 24 24\"\n",
              "       width=\"24px\">\n",
              "    <path d=\"M0 0h24v24H0V0z\" fill=\"none\"/>\n",
              "    <path d=\"M18.56 5.44l.94 2.06.94-2.06 2.06-.94-2.06-.94-.94-2.06-.94 2.06-2.06.94zm-11 1L8.5 8.5l.94-2.06 2.06-.94-2.06-.94L8.5 2.5l-.94 2.06-2.06.94zm10 10l.94 2.06.94-2.06 2.06-.94-2.06-.94-.94-2.06-.94 2.06-2.06.94z\"/><path d=\"M17.41 7.96l-1.37-1.37c-.4-.4-.92-.59-1.43-.59-.52 0-1.04.2-1.43.59L10.3 9.45l-7.72 7.72c-.78.78-.78 2.05 0 2.83L4 21.41c.39.39.9.59 1.41.59.51 0 1.02-.2 1.41-.59l7.78-7.78 2.81-2.81c.8-.78.8-2.07 0-2.86zM5.41 20L4 18.59l7.72-7.72 1.47 1.35L5.41 20z\"/>\n",
              "  </svg>\n",
              "      </button>\n",
              "      \n",
              "  <style>\n",
              "    .colab-df-container {\n",
              "      display:flex;\n",
              "      flex-wrap:wrap;\n",
              "      gap: 12px;\n",
              "    }\n",
              "\n",
              "    .colab-df-convert {\n",
              "      background-color: #E8F0FE;\n",
              "      border: none;\n",
              "      border-radius: 50%;\n",
              "      cursor: pointer;\n",
              "      display: none;\n",
              "      fill: #1967D2;\n",
              "      height: 32px;\n",
              "      padding: 0 0 0 0;\n",
              "      width: 32px;\n",
              "    }\n",
              "\n",
              "    .colab-df-convert:hover {\n",
              "      background-color: #E2EBFA;\n",
              "      box-shadow: 0px 1px 2px rgba(60, 64, 67, 0.3), 0px 1px 3px 1px rgba(60, 64, 67, 0.15);\n",
              "      fill: #174EA6;\n",
              "    }\n",
              "\n",
              "    [theme=dark] .colab-df-convert {\n",
              "      background-color: #3B4455;\n",
              "      fill: #D2E3FC;\n",
              "    }\n",
              "\n",
              "    [theme=dark] .colab-df-convert:hover {\n",
              "      background-color: #434B5C;\n",
              "      box-shadow: 0px 1px 3px 1px rgba(0, 0, 0, 0.15);\n",
              "      filter: drop-shadow(0px 1px 2px rgba(0, 0, 0, 0.3));\n",
              "      fill: #FFFFFF;\n",
              "    }\n",
              "  </style>\n",
              "\n",
              "      <script>\n",
              "        const buttonEl =\n",
              "          document.querySelector('#df-364c8c33-c9d5-43a5-9a93-597a460e5f06 button.colab-df-convert');\n",
              "        buttonEl.style.display =\n",
              "          google.colab.kernel.accessAllowed ? 'block' : 'none';\n",
              "\n",
              "        async function convertToInteractive(key) {\n",
              "          const element = document.querySelector('#df-364c8c33-c9d5-43a5-9a93-597a460e5f06');\n",
              "          const dataTable =\n",
              "            await google.colab.kernel.invokeFunction('convertToInteractive',\n",
              "                                                     [key], {});\n",
              "          if (!dataTable) return;\n",
              "\n",
              "          const docLinkHtml = 'Like what you see? Visit the ' +\n",
              "            '<a target=\"_blank\" href=https://colab.research.google.com/notebooks/data_table.ipynb>data table notebook</a>'\n",
              "            + ' to learn more about interactive tables.';\n",
              "          element.innerHTML = '';\n",
              "          dataTable['output_type'] = 'display_data';\n",
              "          await google.colab.output.renderOutput(dataTable, element);\n",
              "          const docLink = document.createElement('div');\n",
              "          docLink.innerHTML = docLinkHtml;\n",
              "          element.appendChild(docLink);\n",
              "        }\n",
              "      </script>\n",
              "    </div>\n",
              "  </div>\n",
              "  "
            ],
            "text/plain": [
              "       z #solSearched                                         sol      f(sol)\n",
              "0    0.5         4481     (8.433646406913356, 15.657116980337639)  -66.843677\n",
              "1    1.5         1537     (8.431236056667938, 15.695959924907129)  -66.843428\n",
              "2    3.5          769     (8.277138574925646, 15.895478714784103)  -66.834728\n",
              "3    7.5          641     (8.327784577285831, 15.371997647823882)  -66.829500\n",
              "4   15.5          385     (7.181467549434279, 16.200865349733018)  -66.716769\n",
              "5   31.5          385     (-45.76572979797494, 39.67202300311018) -125.792416\n",
              "6   63.5          385   (-53.761820819446584, 37.717206845914426) -120.621349\n",
              "7  127.5          769      (423.98059702924866, 181.965986500953) -609.391304\n",
              "8  255.5          385  (-442.58572380749183, -374.06179004995755) -752.744422\n",
              "9  511.5          257    (-454.08586663628256, 378.5203887457026) -871.182142"
            ]
          },
          "metadata": {},
          "execution_count": 17
        },
        {
          "output_type": "stream",
          "name": "stdout",
          "text": [
            "time: 146 ms (started: 2022-02-16 22:25:09 +00:00)\n"
          ]
        }
      ]
    },
    {
      "cell_type": "code",
      "source": [
        "type(RHC((0,0),1,1,1))"
      ],
      "metadata": {
        "colab": {
          "base_uri": "https://localhost:8080/"
        },
        "id": "KC3xB69BlpwH",
        "outputId": "eb5ce9be-61ce-4610-deaf-7ab24e12ef53"
      },
      "execution_count": null,
      "outputs": [
        {
          "output_type": "execute_result",
          "data": {
            "text/plain": [
              "tuple"
            ]
          },
          "metadata": {},
          "execution_count": 9
        },
        {
          "output_type": "stream",
          "name": "stdout",
          "text": [
            "time: 33.7 ms (started: 2022-02-16 22:11:11 +00:00)\n"
          ]
        }
      ]
    },
    {
      "cell_type": "markdown",
      "source": [
        "## Interpretation\n",
        "There are two competing motivations in choosing p and z - one is our desire to find the lowest point in the space space of f, the other is to obtain results quickly. Unfortunately, as with so many things, there is a tradeoff between these two motivations. Selecting a low p and high z will result in an algorithm that terminates relatively quickly, however it may not actually find a local optimum. On the other hand, choosing a high p and a low z will, in general, find a better local optimum but it will take much longer to converge thereupon. It is therefore necessary to find a balance such that a good solution is found in a relatively quick time.\n",
        "\n",
        "Ultimately, however, the best value of f found is mostly determined by the starting point, rather than by p or z, which instead merely affect the speed at which a particular approximation of a local optimum is found. This is precisely why restarts are so widely used alongside hill climbing, to expose the algorithm to different peaks and troughs to explore, rather than simply exploring the same peak or trough at different rates."
      ],
      "metadata": {
        "id": "jr0v0pMLrbEt"
      }
    }
  ]
}